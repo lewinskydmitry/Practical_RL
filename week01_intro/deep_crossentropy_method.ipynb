{
  "cells": [
    {
      "cell_type": "markdown",
      "metadata": {
        "id": "I_i1q1TWG9zH"
      },
      "source": [
        "# Deep Crossentropy method\n",
        "\n",
        "In this section we'll extend your CEM implementation with neural networks! You will train a multi-layer neural network to solve simple continuous state space games. __Please make sure you're done with tabular crossentropy method from the previous notebook.__\n",
        "\n",
        "![img](https://watanimg.elwatannews.com/old_news_images/large/249765_Large_20140709045740_11.jpg)\n",
        "\n"
      ]
    },
    {
      "cell_type": "code",
      "execution_count": 1,
      "metadata": {
        "id": "t4CJ1sRyG9zJ"
      },
      "outputs": [
        {
          "name": "stdout",
          "output_type": "stream",
          "text": [
            "Starting virtual X frame buffer: Xvfb../xvfb: line 24: start-stop-daemon: command not found\n",
            ".\n"
          ]
        }
      ],
      "source": [
        "import sys, os\n",
        "if type(os.environ.get(\"DISPLAY\")) is not str or len(os.environ.get(\"DISPLAY\")) == 0:\n",
        "    !bash ../xvfb start\n",
        "    os.environ['DISPLAY'] = ':1'"
      ]
    },
    {
      "cell_type": "code",
      "execution_count": 2,
      "metadata": {
        "id": "_2zbc7ahG9zK"
      },
      "outputs": [
        {
          "name": "stderr",
          "output_type": "stream",
          "text": [
            "/Users/fomindmitry/miniconda3/envs/rl/lib/python3.11/site-packages/gymnasium/envs/registration.py:523: DeprecationWarning: \u001b[33mWARN: The environment CartPole-v0 is out of date. You should consider upgrading to version `v1`.\u001b[0m\n",
            "  logger.deprecation(\n"
          ]
        },
        {
          "name": "stdout",
          "output_type": "stream",
          "text": [
            "state vector dim = 4\n",
            "n_actions = 2\n"
          ]
        },
        {
          "data": {
            "image/png": "[encoded data removed]",
            "text/plain": [
              "<Figure size 640x480 with 1 Axes>"
            ]
          },
          "metadata": {},
          "output_type": "display_data"
        }
      ],
      "source": [
        "import gymnasium as gym\n",
        "import numpy as np\n",
        "import matplotlib.pyplot as plt\n",
        "%matplotlib inline\n",
        "\n",
        "# if you see \"<classname> has no attribute .env\", remove .env or update gym\n",
        "env = gym.make(\"CartPole-v0\", render_mode=\"rgb_array\").env\n",
        "\n",
        "env.reset()\n",
        "n_actions = env.action_space.n\n",
        "state_dim = env.observation_space.shape[0]\n",
        "\n",
        "plt.imshow(env.render())\n",
        "print(\"state vector dim =\", state_dim)\n",
        "print(\"n_actions =\", n_actions)\n",
        "\n",
        "env.close()"
      ]
    },
    {
      "cell_type": "markdown",
      "metadata": {
        "id": "Z72_alhdG9zK"
      },
      "source": [
        "# Neural Network Policy\n",
        "\n",
        "For this assignment we'll utilize the simplified neural network implementation from __[Scikit-learn](https://scikit-learn.org/stable/modules/generated/sklearn.neural_network.MLPClassifier.html)__. Here's what you'll need:\n",
        "\n",
        "* `agent.partial_fit(states, actions)` - make a single training pass over the data. Maximize the probability of :actions: from :states:\n",
        "* `agent.predict_proba(states)` - predict probabilities of all actions, a matrix of shape __[len(states), n_actions]__\n"
      ]
    },
    {
      "cell_type": "code",
      "execution_count": 3,
      "metadata": {
        "id": "wLItY4unG9zL"
      },
      "outputs": [
        {
          "data": {
            "text/html": [
              "<style>#sk-container-id-1 {color: black;background-color: white;}#sk-container-id-1 pre{padding: 0;}#sk-container-id-1 div.sk-toggleable {background-color: white;}#sk-container-id-1 label.sk-toggleable__label {cursor: pointer;display: block;width: 100%;margin-bottom: 0;padding: 0.3em;box-sizing: border-box;text-align: center;}#sk-container-id-1 label.sk-toggleable__label-arrow:before {content: \"▸\";float: left;margin-right: 0.25em;color: #696969;}#sk-container-id-1 label.sk-toggleable__label-arrow:hover:before {color: black;}#sk-container-id-1 div.sk-estimator:hover label.sk-toggleable__label-arrow:before {color: black;}#sk-container-id-1 div.sk-toggleable__content {max-height: 0;max-width: 0;overflow: hidden;text-align: left;background-color: #f0f8ff;}#sk-container-id-1 div.sk-toggleable__content pre {margin: 0.2em;color: black;border-radius: 0.25em;background-color: #f0f8ff;}#sk-container-id-1 input.sk-toggleable__control:checked~div.sk-toggleable__content {max-height: 200px;max-width: 100%;overflow: auto;}#sk-container-id-1 input.sk-toggleable__control:checked~label.sk-toggleable__label-arrow:before {content: \"▾\";}#sk-container-id-1 div.sk-estimator input.sk-toggleable__control:checked~label.sk-toggleable__label {background-color: #d4ebff;}#sk-container-id-1 div.sk-label input.sk-toggleable__control:checked~label.sk-toggleable__label {background-color: #d4ebff;}#sk-container-id-1 input.sk-hidden--visually {border: 0;clip: rect(1px 1px 1px 1px);clip: rect(1px, 1px, 1px, 1px);height: 1px;margin: -1px;overflow: hidden;padding: 0;position: absolute;width: 1px;}#sk-container-id-1 div.sk-estimator {font-family: monospace;background-color: #f0f8ff;border: 1px dotted black;border-radius: 0.25em;box-sizing: border-box;margin-bottom: 0.5em;}#sk-container-id-1 div.sk-estimator:hover {background-color: #d4ebff;}#sk-container-id-1 div.sk-parallel-item::after {content: \"\";width: 100%;border-bottom: 1px solid gray;flex-grow: 1;}#sk-container-id-1 div.sk-label:hover label.sk-toggleable__label {background-color: #d4ebff;}#sk-container-id-1 div.sk-serial::before {content: \"\";position: absolute;border-left: 1px solid gray;box-sizing: border-box;top: 0;bottom: 0;left: 50%;z-index: 0;}#sk-container-id-1 div.sk-serial {display: flex;flex-direction: column;align-items: center;background-color: white;padding-right: 0.2em;padding-left: 0.2em;position: relative;}#sk-container-id-1 div.sk-item {position: relative;z-index: 1;}#sk-container-id-1 div.sk-parallel {display: flex;align-items: stretch;justify-content: center;background-color: white;position: relative;}#sk-container-id-1 div.sk-item::before, #sk-container-id-1 div.sk-parallel-item::before {content: \"\";position: absolute;border-left: 1px solid gray;box-sizing: border-box;top: 0;bottom: 0;left: 50%;z-index: -1;}#sk-container-id-1 div.sk-parallel-item {display: flex;flex-direction: column;z-index: 1;position: relative;background-color: white;}#sk-container-id-1 div.sk-parallel-item:first-child::after {align-self: flex-end;width: 50%;}#sk-container-id-1 div.sk-parallel-item:last-child::after {align-self: flex-start;width: 50%;}#sk-container-id-1 div.sk-parallel-item:only-child::after {width: 0;}#sk-container-id-1 div.sk-dashed-wrapped {border: 1px dashed gray;margin: 0 0.4em 0.5em 0.4em;box-sizing: border-box;padding-bottom: 0.4em;background-color: white;}#sk-container-id-1 div.sk-label label {font-family: monospace;font-weight: bold;display: inline-block;line-height: 1.2em;}#sk-container-id-1 div.sk-label-container {text-align: center;}#sk-container-id-1 div.sk-container {/* jupyter's `normalize.less` sets `[hidden] { display: none; }` but bootstrap.min.css set `[hidden] { display: none !important; }` so we also need the `!important` here to be able to override the default hidden behavior on the sphinx rendered scikit-learn.org. See: https://github.com/scikit-learn/scikit-learn/issues/21755 */display: inline-block !important;position: relative;}#sk-container-id-1 div.sk-text-repr-fallback {display: none;}</style><div id=\"sk-container-id-1\" class=\"sk-top-container\"><div class=\"sk-text-repr-fallback\"><pre>MLPClassifier(activation=&#x27;tanh&#x27;, hidden_layer_sizes=(20, 20))</pre><b>In a Jupyter environment, please rerun this cell to show the HTML representation or trust the notebook. <br />On GitHub, the HTML representation is unable to render, please try loading this page with nbviewer.org.</b></div><div class=\"sk-container\" hidden><div class=\"sk-item\"><div class=\"sk-estimator sk-toggleable\"><input class=\"sk-toggleable__control sk-hidden--visually\" id=\"sk-estimator-id-1\" type=\"checkbox\" checked><label for=\"sk-estimator-id-1\" class=\"sk-toggleable__label sk-toggleable__label-arrow\">MLPClassifier</label><div class=\"sk-toggleable__content\"><pre>MLPClassifier(activation=&#x27;tanh&#x27;, hidden_layer_sizes=(20, 20))</pre></div></div></div></div></div>"
            ],
            "text/plain": [
              "MLPClassifier(activation='tanh', hidden_layer_sizes=(20, 20))"
            ]
          },
          "execution_count": 3,
          "metadata": {},
          "output_type": "execute_result"
        }
      ],
      "source": [
        "from sklearn.neural_network import MLPClassifier\n",
        "\n",
        "agent = MLPClassifier(\n",
        "    hidden_layer_sizes=(20, 20),\n",
        "    activation=\"tanh\",\n",
        ")\n",
        "\n",
        "\n",
        "# initialize agent to the dimension of state space and number of actions\n",
        "agent.partial_fit([env.reset()[0]] * n_actions, range(n_actions), range(n_actions))\n"
      ]
    },
    {
      "cell_type": "code",
      "execution_count": 4,
      "metadata": {
        "id": "eyFS3oUmG9zL"
      },
      "outputs": [],
      "source": [
        "def generate_session(env, agent, t_max=1000):\n",
        "    \"\"\"\n",
        "    Play a single game using agent neural network.\n",
        "    Terminate when game finishes or after :t_max: steps\n",
        "    \"\"\"\n",
        "    states, actions = [], []\n",
        "    total_reward = 0\n",
        "\n",
        "    s, _ = env.reset()\n",
        "\n",
        "\n",
        "    for t in range(t_max):\n",
        "\n",
        "        # use agent to predict a vector of action probabilities for state :s:\n",
        "        probs = agent.predict_proba(s[None,:]).reshape(-1)\n",
        "        # probs = agent.predict_proba(s[None, :]).reshape(-1)\n",
        "        # print(probs)\n",
        "\n",
        "        assert probs.shape == (env.action_space.n,), \"make sure probabilities are a vector (hint: np.reshape)\"\n",
        "\n",
        "        # use the probabilities you predicted to pick an action\n",
        "        # sample proportionally to the probabilities, don't just take the most likely action\n",
        "        a = np.random.choice(np.arange(n_actions), p = probs)\n",
        "        # ^-- hint: try np.random.choice\n",
        "\n",
        "        new_s, r, terminated, truncated, _ = env.step(a)\n",
        "\n",
        "        # record sessions like you did before\n",
        "        states.append(s)\n",
        "        actions.append(a)\n",
        "        total_reward += r\n",
        "\n",
        "        s = new_s\n",
        "        if terminated or truncated:\n",
        "            break\n",
        "    return np.array(states), np.array(actions), np.array(total_reward)\n"
      ]
    },
    {
      "cell_type": "code",
      "execution_count": 5,
      "metadata": {
        "id": "4xgrTCgJG9zL"
      },
      "outputs": [
        {
          "name": "stdout",
          "output_type": "stream",
          "text": [
            "states: [[ 0.00478108  0.00201128  0.0110258  -0.02240458]\n",
            " [ 0.0048213   0.19697338  0.01057771 -0.31158844]\n",
            " [ 0.00876077  0.39194307  0.00434594 -0.6009168 ]\n",
            " [ 0.01659963  0.19676058 -0.00767239 -0.30686814]\n",
            " [ 0.02053485  0.39199102 -0.01380976 -0.60196084]]\n",
            "actions: [1 1 0 1 0]\n",
            "reward: 5.0\n"
          ]
        }
      ],
      "source": [
        "dummy_states, dummy_actions, dummy_reward = generate_session(env, agent, t_max=5)\n",
        "print(\"states:\", np.stack(dummy_states))\n",
        "print(\"actions:\", dummy_actions)\n",
        "print(\"reward:\", dummy_reward)"
      ]
    },
    {
      "cell_type": "markdown",
      "metadata": {
        "id": "p85lt16qG9zL"
      },
      "source": [
        "### CEM steps\n",
        "Deep CEM uses exactly the same strategy as the regular CEM, so you can copy your function code from previous notebook.\n",
        "\n",
        "The only difference is that now each observation is not a number but a `float32` vector."
      ]
    },
    {
      "cell_type": "code",
      "execution_count": 6,
      "metadata": {
        "id": "4On-p7p4G9zL"
      },
      "outputs": [],
      "source": [
        "def select_elites(states_batch, actions_batch, rewards_batch, percentile=50):\n",
        "    \"\"\"\n",
        "    Select states and actions from games that have rewards >= percentile\n",
        "    :param states_batch: list of lists of states, states_batch[session_i][t]\n",
        "    :param actions_batch: list of lists of actions, actions_batch[session_i][t]\n",
        "    :param rewards_batch: list of rewards, rewards_batch[session_i]\n",
        "\n",
        "    :returns: elite_states,elite_actions, both 1D lists of states and respective actions from elite sessions\n",
        "\n",
        "    Please return elite states and actions in their original order\n",
        "    [i.e. sorted by session number and timestep within session]\n",
        "\n",
        "    If you are confused, see examples below. Please don't assume that states are integers\n",
        "    (they will become different later).\n",
        "    \"\"\"\n",
        "\n",
        "    reward_threshold = np.percentile(rewards_batch, percentile)\n",
        "    elite_states = []\n",
        "    elite_actions = []\n",
        "    for i, r in enumerate(rewards_batch):\n",
        "        if r >= reward_threshold:\n",
        "            elite_states.extend(states_batch[i])\n",
        "            elite_actions.extend(actions_batch[i])\n",
        "    return elite_states, elite_actions\n"
      ]
    },
    {
      "cell_type": "markdown",
      "metadata": {
        "id": "xc40V4DaG9zM"
      },
      "source": [
        "# Training loop\n",
        "Generate sessions, select N best and fit to those."
      ]
    },
    {
      "cell_type": "code",
      "execution_count": 7,
      "metadata": {
        "id": "PPwVKwF7G9zM"
      },
      "outputs": [],
      "source": [
        "from IPython.display import clear_output\n",
        "\n",
        "\n",
        "def show_progress(rewards_batch, log, percentile, reward_range=[-990, +10]):\n",
        "    \"\"\"\n",
        "    A convenience function that displays training progress.\n",
        "    No cool math here, just charts.\n",
        "    \"\"\"\n",
        "\n",
        "    mean_reward = np.mean(rewards_batch)\n",
        "    threshold = np.percentile(rewards_batch, percentile)\n",
        "    log.append([mean_reward, threshold])\n",
        "\n",
        "    clear_output(True)\n",
        "    print(\"mean reward = %.3f, threshold=%.3f\" % (mean_reward, threshold))\n",
        "    plt.figure(figsize=[8, 4])\n",
        "    plt.subplot(1, 2, 1)\n",
        "    plt.plot(list(zip(*log))[0], label=\"Mean rewards\")\n",
        "    plt.plot(list(zip(*log))[1], label=\"Reward thresholds\")\n",
        "    plt.legend()\n",
        "    plt.grid()\n",
        "\n",
        "    plt.subplot(1, 2, 2)\n",
        "    plt.hist(rewards_batch, range=reward_range)\n",
        "    plt.vlines(\n",
        "        [np.percentile(rewards_batch, percentile)],\n",
        "        [0],\n",
        "        [100],\n",
        "        label=\"percentile\",\n",
        "        color=\"red\",\n",
        "    )\n",
        "    plt.legend()\n",
        "    plt.grid()\n",
        "\n",
        "    plt.show()\n"
      ]
    },
    {
      "cell_type": "code",
      "execution_count": 8,
      "metadata": {
        "id": "euK7WRQiG9zM"
      },
      "outputs": [
        {
          "name": "stdout",
          "output_type": "stream",
          "text": [
            "mean reward = 256.510, threshold=291.600\n"
          ]
        },
        {
          "data": {
            "image/png": "[encoded data removed]",
            "text/plain": [
              "<Figure size 800x400 with 2 Axes>"
            ]
          },
          "metadata": {},
          "output_type": "display_data"
        },
        {
          "name": "stdout",
          "output_type": "stream",
          "text": [
            "You Win! You may stop training now via KeyboardInterrupt.\n"
          ]
        },
        {
          "ename": "KeyboardInterrupt",
          "evalue": "",
          "output_type": "error",
          "traceback": [
            "\u001b[0;31m---------------------------------------------------------------------------\u001b[0m",
            "\u001b[0;31mKeyboardInterrupt\u001b[0m                         Traceback (most recent call last)",
            "\u001b[1;32m/Users/fomindmitry/Google Диск/Github/Practical_RL/week01_intro/deep_crossentropy_method.ipynb Cell 12\u001b[0m line \u001b[0;36m7\n\u001b[1;32m      <a href='vscode-notebook-cell:/Users/fomindmitry/Google%20%D0%94%D0%B8%D1%81%D0%BA/Github/Practical_RL/week01_intro/deep_crossentropy_method.ipynb#X15sZmlsZQ%3D%3D?line=2'>3</a>\u001b[0m log \u001b[39m=\u001b[39m []\n\u001b[1;32m      <a href='vscode-notebook-cell:/Users/fomindmitry/Google%20%D0%94%D0%B8%D1%81%D0%BA/Github/Practical_RL/week01_intro/deep_crossentropy_method.ipynb#X15sZmlsZQ%3D%3D?line=4'>5</a>\u001b[0m \u001b[39mfor\u001b[39;00m i \u001b[39min\u001b[39;00m \u001b[39mrange\u001b[39m(\u001b[39m100\u001b[39m):\n\u001b[1;32m      <a href='vscode-notebook-cell:/Users/fomindmitry/Google%20%D0%94%D0%B8%D1%81%D0%BA/Github/Practical_RL/week01_intro/deep_crossentropy_method.ipynb#X15sZmlsZQ%3D%3D?line=5'>6</a>\u001b[0m     \u001b[39m# generate new sessions\u001b[39;00m\n\u001b[0;32m----> <a href='vscode-notebook-cell:/Users/fomindmitry/Google%20%D0%94%D0%B8%D1%81%D0%BA/Github/Practical_RL/week01_intro/deep_crossentropy_method.ipynb#X15sZmlsZQ%3D%3D?line=6'>7</a>\u001b[0m     sessions \u001b[39m=\u001b[39m [generate_session(env, agent) \u001b[39mfor\u001b[39;49;00m i \u001b[39min\u001b[39;49;00m \u001b[39mrange\u001b[39;49m(n_sessions)]\n\u001b[1;32m     <a href='vscode-notebook-cell:/Users/fomindmitry/Google%20%D0%94%D0%B8%D1%81%D0%BA/Github/Practical_RL/week01_intro/deep_crossentropy_method.ipynb#X15sZmlsZQ%3D%3D?line=9'>10</a>\u001b[0m     states_batch, actions_batch, rewards_batch \u001b[39m=\u001b[39m \u001b[39mzip\u001b[39m(\u001b[39m*\u001b[39msessions)\n\u001b[1;32m     <a href='vscode-notebook-cell:/Users/fomindmitry/Google%20%D0%94%D0%B8%D1%81%D0%BA/Github/Practical_RL/week01_intro/deep_crossentropy_method.ipynb#X15sZmlsZQ%3D%3D?line=11'>12</a>\u001b[0m     elite_states, elite_actions \u001b[39m=\u001b[39m select_elites(states_batch, actions_batch, rewards_batch, percentile)\n",
            "\u001b[1;32m/Users/fomindmitry/Google Диск/Github/Practical_RL/week01_intro/deep_crossentropy_method.ipynb Cell 12\u001b[0m line \u001b[0;36m7\n\u001b[1;32m      <a href='vscode-notebook-cell:/Users/fomindmitry/Google%20%D0%94%D0%B8%D1%81%D0%BA/Github/Practical_RL/week01_intro/deep_crossentropy_method.ipynb#X15sZmlsZQ%3D%3D?line=2'>3</a>\u001b[0m log \u001b[39m=\u001b[39m []\n\u001b[1;32m      <a href='vscode-notebook-cell:/Users/fomindmitry/Google%20%D0%94%D0%B8%D1%81%D0%BA/Github/Practical_RL/week01_intro/deep_crossentropy_method.ipynb#X15sZmlsZQ%3D%3D?line=4'>5</a>\u001b[0m \u001b[39mfor\u001b[39;00m i \u001b[39min\u001b[39;00m \u001b[39mrange\u001b[39m(\u001b[39m100\u001b[39m):\n\u001b[1;32m      <a href='vscode-notebook-cell:/Users/fomindmitry/Google%20%D0%94%D0%B8%D1%81%D0%BA/Github/Practical_RL/week01_intro/deep_crossentropy_method.ipynb#X15sZmlsZQ%3D%3D?line=5'>6</a>\u001b[0m     \u001b[39m# generate new sessions\u001b[39;00m\n\u001b[0;32m----> <a href='vscode-notebook-cell:/Users/fomindmitry/Google%20%D0%94%D0%B8%D1%81%D0%BA/Github/Practical_RL/week01_intro/deep_crossentropy_method.ipynb#X15sZmlsZQ%3D%3D?line=6'>7</a>\u001b[0m     sessions \u001b[39m=\u001b[39m [generate_session(env, agent) \u001b[39mfor\u001b[39;00m i \u001b[39min\u001b[39;00m \u001b[39mrange\u001b[39m(n_sessions)]\n\u001b[1;32m     <a href='vscode-notebook-cell:/Users/fomindmitry/Google%20%D0%94%D0%B8%D1%81%D0%BA/Github/Practical_RL/week01_intro/deep_crossentropy_method.ipynb#X15sZmlsZQ%3D%3D?line=9'>10</a>\u001b[0m     states_batch, actions_batch, rewards_batch \u001b[39m=\u001b[39m \u001b[39mzip\u001b[39m(\u001b[39m*\u001b[39msessions)\n\u001b[1;32m     <a href='vscode-notebook-cell:/Users/fomindmitry/Google%20%D0%94%D0%B8%D1%81%D0%BA/Github/Practical_RL/week01_intro/deep_crossentropy_method.ipynb#X15sZmlsZQ%3D%3D?line=11'>12</a>\u001b[0m     elite_states, elite_actions \u001b[39m=\u001b[39m select_elites(states_batch, actions_batch, rewards_batch, percentile)\n",
            "\u001b[1;32m/Users/fomindmitry/Google Диск/Github/Practical_RL/week01_intro/deep_crossentropy_method.ipynb Cell 12\u001b[0m line \u001b[0;36m1\n\u001b[1;32m      <a href='vscode-notebook-cell:/Users/fomindmitry/Google%20%D0%94%D0%B8%D1%81%D0%BA/Github/Practical_RL/week01_intro/deep_crossentropy_method.ipynb#X15sZmlsZQ%3D%3D?line=8'>9</a>\u001b[0m s, _ \u001b[39m=\u001b[39m env\u001b[39m.\u001b[39mreset()\n\u001b[1;32m     <a href='vscode-notebook-cell:/Users/fomindmitry/Google%20%D0%94%D0%B8%D1%81%D0%BA/Github/Practical_RL/week01_intro/deep_crossentropy_method.ipynb#X15sZmlsZQ%3D%3D?line=11'>12</a>\u001b[0m \u001b[39mfor\u001b[39;00m t \u001b[39min\u001b[39;00m \u001b[39mrange\u001b[39m(t_max):\n\u001b[1;32m     <a href='vscode-notebook-cell:/Users/fomindmitry/Google%20%D0%94%D0%B8%D1%81%D0%BA/Github/Practical_RL/week01_intro/deep_crossentropy_method.ipynb#X15sZmlsZQ%3D%3D?line=12'>13</a>\u001b[0m \n\u001b[1;32m     <a href='vscode-notebook-cell:/Users/fomindmitry/Google%20%D0%94%D0%B8%D1%81%D0%BA/Github/Practical_RL/week01_intro/deep_crossentropy_method.ipynb#X15sZmlsZQ%3D%3D?line=13'>14</a>\u001b[0m     \u001b[39m# use agent to predict a vector of action probabilities for state :s:\u001b[39;00m\n\u001b[0;32m---> <a href='vscode-notebook-cell:/Users/fomindmitry/Google%20%D0%94%D0%B8%D1%81%D0%BA/Github/Practical_RL/week01_intro/deep_crossentropy_method.ipynb#X15sZmlsZQ%3D%3D?line=14'>15</a>\u001b[0m     probs \u001b[39m=\u001b[39m agent\u001b[39m.\u001b[39;49mpredict_proba(s[\u001b[39mNone\u001b[39;49;00m,:])\u001b[39m.\u001b[39mreshape(\u001b[39m-\u001b[39m\u001b[39m1\u001b[39m)\n\u001b[1;32m     <a href='vscode-notebook-cell:/Users/fomindmitry/Google%20%D0%94%D0%B8%D1%81%D0%BA/Github/Practical_RL/week01_intro/deep_crossentropy_method.ipynb#X15sZmlsZQ%3D%3D?line=15'>16</a>\u001b[0m     \u001b[39m# probs = agent.predict_proba(s[None, :]).reshape(-1)\u001b[39;00m\n\u001b[1;32m     <a href='vscode-notebook-cell:/Users/fomindmitry/Google%20%D0%94%D0%B8%D1%81%D0%BA/Github/Practical_RL/week01_intro/deep_crossentropy_method.ipynb#X15sZmlsZQ%3D%3D?line=16'>17</a>\u001b[0m     \u001b[39m# print(probs)\u001b[39;00m\n\u001b[1;32m     <a href='vscode-notebook-cell:/Users/fomindmitry/Google%20%D0%94%D0%B8%D1%81%D0%BA/Github/Practical_RL/week01_intro/deep_crossentropy_method.ipynb#X15sZmlsZQ%3D%3D?line=18'>19</a>\u001b[0m     \u001b[39massert\u001b[39;00m probs\u001b[39m.\u001b[39mshape \u001b[39m==\u001b[39m (env\u001b[39m.\u001b[39maction_space\u001b[39m.\u001b[39mn,), \u001b[39m\"\u001b[39m\u001b[39mmake sure probabilities are a vector (hint: np.reshape)\u001b[39m\u001b[39m\"\u001b[39m\n",
            "File \u001b[0;32m~/miniconda3/envs/rl/lib/python3.11/site-packages/sklearn/neural_network/_multilayer_perceptron.py:1242\u001b[0m, in \u001b[0;36mMLPClassifier.predict_proba\u001b[0;34m(self, X)\u001b[0m\n\u001b[1;32m   1228\u001b[0m \u001b[39m\u001b[39m\u001b[39m\"\"\"Probability estimates.\u001b[39;00m\n\u001b[1;32m   1229\u001b[0m \n\u001b[1;32m   1230\u001b[0m \u001b[39mParameters\u001b[39;00m\n\u001b[0;32m   (...)\u001b[0m\n\u001b[1;32m   1239\u001b[0m \u001b[39m    model, where classes are ordered as they are in `self.classes_`.\u001b[39;00m\n\u001b[1;32m   1240\u001b[0m \u001b[39m\"\"\"\u001b[39;00m\n\u001b[1;32m   1241\u001b[0m check_is_fitted(\u001b[39mself\u001b[39m)\n\u001b[0;32m-> 1242\u001b[0m y_pred \u001b[39m=\u001b[39m \u001b[39mself\u001b[39;49m\u001b[39m.\u001b[39;49m_forward_pass_fast(X)\n\u001b[1;32m   1244\u001b[0m \u001b[39mif\u001b[39;00m \u001b[39mself\u001b[39m\u001b[39m.\u001b[39mn_outputs_ \u001b[39m==\u001b[39m \u001b[39m1\u001b[39m:\n\u001b[1;32m   1245\u001b[0m     y_pred \u001b[39m=\u001b[39m y_pred\u001b[39m.\u001b[39mravel()\n",
            "File \u001b[0;32m~/miniconda3/envs/rl/lib/python3.11/site-packages/sklearn/neural_network/_multilayer_perceptron.py:202\u001b[0m, in \u001b[0;36mBaseMultilayerPerceptron._forward_pass_fast\u001b[0;34m(self, X, check_input)\u001b[0m\n\u001b[1;32m    183\u001b[0m \u001b[39m\u001b[39m\u001b[39m\"\"\"Predict using the trained model\u001b[39;00m\n\u001b[1;32m    184\u001b[0m \n\u001b[1;32m    185\u001b[0m \u001b[39mThis is the same as _forward_pass but does not record the activations\u001b[39;00m\n\u001b[0;32m   (...)\u001b[0m\n\u001b[1;32m    199\u001b[0m \u001b[39m    The decision function of the samples for each class in the model.\u001b[39;00m\n\u001b[1;32m    200\u001b[0m \u001b[39m\"\"\"\u001b[39;00m\n\u001b[1;32m    201\u001b[0m \u001b[39mif\u001b[39;00m check_input:\n\u001b[0;32m--> 202\u001b[0m     X \u001b[39m=\u001b[39m \u001b[39mself\u001b[39;49m\u001b[39m.\u001b[39;49m_validate_data(X, accept_sparse\u001b[39m=\u001b[39;49m[\u001b[39m\"\u001b[39;49m\u001b[39mcsr\u001b[39;49m\u001b[39m\"\u001b[39;49m, \u001b[39m\"\u001b[39;49m\u001b[39mcsc\u001b[39;49m\u001b[39m\"\u001b[39;49m], reset\u001b[39m=\u001b[39;49m\u001b[39mFalse\u001b[39;49;00m)\n\u001b[1;32m    204\u001b[0m \u001b[39m# Initialize first layer\u001b[39;00m\n\u001b[1;32m    205\u001b[0m activation \u001b[39m=\u001b[39m X\n",
            "File \u001b[0;32m~/miniconda3/envs/rl/lib/python3.11/site-packages/sklearn/base.py:565\u001b[0m, in \u001b[0;36mBaseEstimator._validate_data\u001b[0;34m(self, X, y, reset, validate_separately, **check_params)\u001b[0m\n\u001b[1;32m    563\u001b[0m     \u001b[39mraise\u001b[39;00m \u001b[39mValueError\u001b[39;00m(\u001b[39m\"\u001b[39m\u001b[39mValidation should be done on X, y or both.\u001b[39m\u001b[39m\"\u001b[39m)\n\u001b[1;32m    564\u001b[0m \u001b[39melif\u001b[39;00m \u001b[39mnot\u001b[39;00m no_val_X \u001b[39mand\u001b[39;00m no_val_y:\n\u001b[0;32m--> 565\u001b[0m     X \u001b[39m=\u001b[39m check_array(X, input_name\u001b[39m=\u001b[39;49m\u001b[39m\"\u001b[39;49m\u001b[39mX\u001b[39;49m\u001b[39m\"\u001b[39;49m, \u001b[39m*\u001b[39;49m\u001b[39m*\u001b[39;49mcheck_params)\n\u001b[1;32m    566\u001b[0m     out \u001b[39m=\u001b[39m X\n\u001b[1;32m    567\u001b[0m \u001b[39melif\u001b[39;00m no_val_X \u001b[39mand\u001b[39;00m \u001b[39mnot\u001b[39;00m no_val_y:\n",
            "File \u001b[0;32m~/miniconda3/envs/rl/lib/python3.11/site-packages/sklearn/utils/validation.py:879\u001b[0m, in \u001b[0;36mcheck_array\u001b[0;34m(array, accept_sparse, accept_large_sparse, dtype, order, copy, force_all_finite, ensure_2d, allow_nd, ensure_min_samples, ensure_min_features, estimator, input_name)\u001b[0m\n\u001b[1;32m    877\u001b[0m         array \u001b[39m=\u001b[39m xp\u001b[39m.\u001b[39mastype(array, dtype, copy\u001b[39m=\u001b[39m\u001b[39mFalse\u001b[39;00m)\n\u001b[1;32m    878\u001b[0m     \u001b[39melse\u001b[39;00m:\n\u001b[0;32m--> 879\u001b[0m         array \u001b[39m=\u001b[39m _asarray_with_order(array, order\u001b[39m=\u001b[39;49morder, dtype\u001b[39m=\u001b[39;49mdtype, xp\u001b[39m=\u001b[39;49mxp)\n\u001b[1;32m    880\u001b[0m \u001b[39mexcept\u001b[39;00m ComplexWarning \u001b[39mas\u001b[39;00m complex_warning:\n\u001b[1;32m    881\u001b[0m     \u001b[39mraise\u001b[39;00m \u001b[39mValueError\u001b[39;00m(\n\u001b[1;32m    882\u001b[0m         \u001b[39m\"\u001b[39m\u001b[39mComplex data not supported\u001b[39m\u001b[39m\\n\u001b[39;00m\u001b[39m{}\u001b[39;00m\u001b[39m\\n\u001b[39;00m\u001b[39m\"\u001b[39m\u001b[39m.\u001b[39mformat(array)\n\u001b[1;32m    883\u001b[0m     ) \u001b[39mfrom\u001b[39;00m \u001b[39mcomplex_warning\u001b[39;00m\n",
            "File \u001b[0;32m~/miniconda3/envs/rl/lib/python3.11/site-packages/sklearn/utils/_array_api.py:186\u001b[0m, in \u001b[0;36m_asarray_with_order\u001b[0;34m(array, dtype, order, copy, xp)\u001b[0m\n\u001b[1;32m    183\u001b[0m \u001b[39mif\u001b[39;00m xp\u001b[39m.\u001b[39m\u001b[39m__name__\u001b[39m \u001b[39min\u001b[39;00m {\u001b[39m\"\u001b[39m\u001b[39mnumpy\u001b[39m\u001b[39m\"\u001b[39m, \u001b[39m\"\u001b[39m\u001b[39mnumpy.array_api\u001b[39m\u001b[39m\"\u001b[39m}:\n\u001b[1;32m    184\u001b[0m     \u001b[39m# Use NumPy API to support order\u001b[39;00m\n\u001b[1;32m    185\u001b[0m     array \u001b[39m=\u001b[39m numpy\u001b[39m.\u001b[39masarray(array, order\u001b[39m=\u001b[39morder, dtype\u001b[39m=\u001b[39mdtype)\n\u001b[0;32m--> 186\u001b[0m     \u001b[39mreturn\u001b[39;00m xp\u001b[39m.\u001b[39;49masarray(array, copy\u001b[39m=\u001b[39;49mcopy)\n\u001b[1;32m    187\u001b[0m \u001b[39melse\u001b[39;00m:\n\u001b[1;32m    188\u001b[0m     \u001b[39mreturn\u001b[39;00m xp\u001b[39m.\u001b[39masarray(array, dtype\u001b[39m=\u001b[39mdtype, copy\u001b[39m=\u001b[39mcopy)\n",
            "File \u001b[0;32m~/miniconda3/envs/rl/lib/python3.11/site-packages/sklearn/utils/_array_api.py:70\u001b[0m, in \u001b[0;36m_NumPyApiWrapper.asarray\u001b[0;34m(self, x, dtype, device, copy)\u001b[0m\n\u001b[1;32m     66\u001b[0m \u001b[39mdef\u001b[39;00m \u001b[39mastype\u001b[39m(\u001b[39mself\u001b[39m, x, dtype, \u001b[39m*\u001b[39m, copy\u001b[39m=\u001b[39m\u001b[39mTrue\u001b[39;00m, casting\u001b[39m=\u001b[39m\u001b[39m\"\u001b[39m\u001b[39munsafe\u001b[39m\u001b[39m\"\u001b[39m):\n\u001b[1;32m     67\u001b[0m     \u001b[39m# astype is not defined in the top level NumPy namespace\u001b[39;00m\n\u001b[1;32m     68\u001b[0m     \u001b[39mreturn\u001b[39;00m x\u001b[39m.\u001b[39mastype(dtype, copy\u001b[39m=\u001b[39mcopy, casting\u001b[39m=\u001b[39mcasting)\n\u001b[0;32m---> 70\u001b[0m \u001b[39mdef\u001b[39;00m \u001b[39masarray\u001b[39m(\u001b[39mself\u001b[39m, x, \u001b[39m*\u001b[39m, dtype\u001b[39m=\u001b[39m\u001b[39mNone\u001b[39;00m, device\u001b[39m=\u001b[39m\u001b[39mNone\u001b[39;00m, copy\u001b[39m=\u001b[39m\u001b[39mNone\u001b[39;00m):\n\u001b[1;32m     71\u001b[0m     \u001b[39m# Support copy in NumPy namespace\u001b[39;00m\n\u001b[1;32m     72\u001b[0m     \u001b[39mif\u001b[39;00m copy \u001b[39mis\u001b[39;00m \u001b[39mTrue\u001b[39;00m:\n\u001b[1;32m     73\u001b[0m         \u001b[39mreturn\u001b[39;00m numpy\u001b[39m.\u001b[39marray(x, copy\u001b[39m=\u001b[39m\u001b[39mTrue\u001b[39;00m, dtype\u001b[39m=\u001b[39mdtype)\n",
            "\u001b[0;31mKeyboardInterrupt\u001b[0m: "
          ]
        }
      ],
      "source": [
        "n_sessions = 100\n",
        "percentile = 70\n",
        "log = []\n",
        "\n",
        "for i in range(100):\n",
        "    # generate new sessions\n",
        "    sessions = [generate_session(env, agent) for i in range(n_sessions)]\n",
        "\n",
        "    \n",
        "    states_batch, actions_batch, rewards_batch = zip(*sessions)\n",
        "\n",
        "    elite_states, elite_actions = select_elites(states_batch, actions_batch, rewards_batch, percentile)\n",
        "\n",
        "    agent.partial_fit(elite_states, elite_actions)\n",
        "\n",
        "    show_progress(\n",
        "        rewards_batch, log, percentile, reward_range=[0, np.max(rewards_batch)]\n",
        "    )\n",
        "\n",
        "    if np.mean(rewards_batch) > 190:\n",
        "        print(\"You Win! You may stop training now via KeyboardInterrupt.\")\n"
      ]
    },
    {
      "cell_type": "markdown",
      "metadata": {
        "id": "yeNWKjtsG9zM"
      },
      "source": [
        "# Results"
      ]
    },
    {
      "cell_type": "code",
      "execution_count": 9,
      "metadata": {
        "id": "RJwsWl4kG9zM"
      },
      "outputs": [
        {
          "name": "stderr",
          "output_type": "stream",
          "text": [
            "/Users/fomindmitry/miniconda3/envs/rl/lib/python3.11/site-packages/gymnasium/envs/registration.py:523: DeprecationWarning: \u001b[33mWARN: The environment CartPole-v0 is out of date. You should consider upgrading to version `v1`.\u001b[0m\n",
            "  logger.deprecation(\n",
            "/Users/fomindmitry/miniconda3/envs/rl/lib/python3.11/site-packages/gymnasium/wrappers/record_video.py:87: UserWarning: \u001b[33mWARN: Overwriting existing videos at /Users/fomindmitry/Google Диск/Github/Practical_RL/week01_intro/videos folder (try specifying a different `video_folder` for the `RecordVideo` wrapper if this is not desired)\u001b[0m\n",
            "  logger.warn(\n"
          ]
        },
        {
          "name": "stdout",
          "output_type": "stream",
          "text": [
            "Moviepy - Building video /Users/fomindmitry/Google Диск/Github/Practical_RL/week01_intro/videos/rl-video-episode-0.mp4.\n",
            "Moviepy - Writing video /Users/fomindmitry/Google Диск/Github/Practical_RL/week01_intro/videos/rl-video-episode-0.mp4\n",
            "\n"
          ]
        },
        {
          "name": "stderr",
          "output_type": "stream",
          "text": [
            "                                                               \r"
          ]
        },
        {
          "name": "stdout",
          "output_type": "stream",
          "text": [
            "Moviepy - Done !\n",
            "Moviepy - video ready /Users/fomindmitry/Google Диск/Github/Practical_RL/week01_intro/videos/rl-video-episode-0.mp4\n",
            "Moviepy - Building video /Users/fomindmitry/Google Диск/Github/Practical_RL/week01_intro/videos/rl-video-episode-1.mp4.\n",
            "Moviepy - Writing video /Users/fomindmitry/Google Диск/Github/Practical_RL/week01_intro/videos/rl-video-episode-1.mp4\n",
            "\n"
          ]
        },
        {
          "name": "stderr",
          "output_type": "stream",
          "text": [
            "                                                               \r"
          ]
        },
        {
          "name": "stdout",
          "output_type": "stream",
          "text": [
            "Moviepy - Done !\n",
            "Moviepy - video ready /Users/fomindmitry/Google Диск/Github/Practical_RL/week01_intro/videos/rl-video-episode-1.mp4\n",
            "Moviepy - Building video /Users/fomindmitry/Google Диск/Github/Practical_RL/week01_intro/videos/rl-video-episode-2.mp4.\n",
            "Moviepy - Writing video /Users/fomindmitry/Google Диск/Github/Practical_RL/week01_intro/videos/rl-video-episode-2.mp4\n",
            "\n"
          ]
        },
        {
          "name": "stderr",
          "output_type": "stream",
          "text": [
            "                                                               \r"
          ]
        },
        {
          "name": "stdout",
          "output_type": "stream",
          "text": [
            "Moviepy - Done !\n",
            "Moviepy - video ready /Users/fomindmitry/Google Диск/Github/Practical_RL/week01_intro/videos/rl-video-episode-2.mp4\n",
            "Moviepy - Building video /Users/fomindmitry/Google Диск/Github/Practical_RL/week01_intro/videos/rl-video-episode-3.mp4.\n",
            "Moviepy - Writing video /Users/fomindmitry/Google Диск/Github/Practical_RL/week01_intro/videos/rl-video-episode-3.mp4\n",
            "\n"
          ]
        },
        {
          "name": "stderr",
          "output_type": "stream",
          "text": [
            "                                                               \r"
          ]
        },
        {
          "name": "stdout",
          "output_type": "stream",
          "text": [
            "Moviepy - Done !\n",
            "Moviepy - video ready /Users/fomindmitry/Google Диск/Github/Practical_RL/week01_intro/videos/rl-video-episode-3.mp4\n",
            "Moviepy - Building video /Users/fomindmitry/Google Диск/Github/Practical_RL/week01_intro/videos/rl-video-episode-4.mp4.\n",
            "Moviepy - Writing video /Users/fomindmitry/Google Диск/Github/Practical_RL/week01_intro/videos/rl-video-episode-4.mp4\n",
            "\n"
          ]
        },
        {
          "name": "stderr",
          "output_type": "stream",
          "text": [
            "                                                               \r"
          ]
        },
        {
          "name": "stdout",
          "output_type": "stream",
          "text": [
            "Moviepy - Done !\n",
            "Moviepy - video ready /Users/fomindmitry/Google Диск/Github/Practical_RL/week01_intro/videos/rl-video-episode-4.mp4\n",
            "Moviepy - Building video /Users/fomindmitry/Google Диск/Github/Practical_RL/week01_intro/videos/rl-video-episode-5.mp4.\n",
            "Moviepy - Writing video /Users/fomindmitry/Google Диск/Github/Practical_RL/week01_intro/videos/rl-video-episode-5.mp4\n",
            "\n"
          ]
        },
        {
          "name": "stderr",
          "output_type": "stream",
          "text": [
            "                                                              \r"
          ]
        },
        {
          "name": "stdout",
          "output_type": "stream",
          "text": [
            "Moviepy - Done !\n",
            "Moviepy - video ready /Users/fomindmitry/Google Диск/Github/Practical_RL/week01_intro/videos/rl-video-episode-5.mp4\n",
            "Moviepy - Building video /Users/fomindmitry/Google Диск/Github/Practical_RL/week01_intro/videos/rl-video-episode-6.mp4.\n",
            "Moviepy - Writing video /Users/fomindmitry/Google Диск/Github/Practical_RL/week01_intro/videos/rl-video-episode-6.mp4\n",
            "\n"
          ]
        },
        {
          "name": "stderr",
          "output_type": "stream",
          "text": [
            "                                                              \r"
          ]
        },
        {
          "name": "stdout",
          "output_type": "stream",
          "text": [
            "Moviepy - Done !\n",
            "Moviepy - video ready /Users/fomindmitry/Google Диск/Github/Practical_RL/week01_intro/videos/rl-video-episode-6.mp4\n",
            "Moviepy - Building video /Users/fomindmitry/Google Диск/Github/Practical_RL/week01_intro/videos/rl-video-episode-7.mp4.\n",
            "Moviepy - Writing video /Users/fomindmitry/Google Диск/Github/Practical_RL/week01_intro/videos/rl-video-episode-7.mp4\n",
            "\n"
          ]
        },
        {
          "name": "stderr",
          "output_type": "stream",
          "text": [
            "                                                               \r"
          ]
        },
        {
          "name": "stdout",
          "output_type": "stream",
          "text": [
            "Moviepy - Done !\n",
            "Moviepy - video ready /Users/fomindmitry/Google Диск/Github/Practical_RL/week01_intro/videos/rl-video-episode-7.mp4\n",
            "Moviepy - Building video /Users/fomindmitry/Google Диск/Github/Practical_RL/week01_intro/videos/rl-video-episode-8.mp4.\n",
            "Moviepy - Writing video /Users/fomindmitry/Google Диск/Github/Practical_RL/week01_intro/videos/rl-video-episode-8.mp4\n",
            "\n"
          ]
        },
        {
          "name": "stderr",
          "output_type": "stream",
          "text": [
            "                                                               \r"
          ]
        },
        {
          "name": "stdout",
          "output_type": "stream",
          "text": [
            "Moviepy - Done !\n",
            "Moviepy - video ready /Users/fomindmitry/Google Диск/Github/Practical_RL/week01_intro/videos/rl-video-episode-8.mp4\n",
            "Moviepy - Building video /Users/fomindmitry/Google Диск/Github/Practical_RL/week01_intro/videos/rl-video-episode-9.mp4.\n",
            "Moviepy - Writing video /Users/fomindmitry/Google Диск/Github/Practical_RL/week01_intro/videos/rl-video-episode-9.mp4\n",
            "\n"
          ]
        },
        {
          "name": "stderr",
          "output_type": "stream",
          "text": [
            "                                                               \r"
          ]
        },
        {
          "name": "stdout",
          "output_type": "stream",
          "text": [
            "Moviepy - Done !\n",
            "Moviepy - video ready /Users/fomindmitry/Google Диск/Github/Practical_RL/week01_intro/videos/rl-video-episode-9.mp4\n",
            "Moviepy - Building video /Users/fomindmitry/Google Диск/Github/Practical_RL/week01_intro/videos/rl-video-episode-10.mp4.\n",
            "Moviepy - Writing video /Users/fomindmitry/Google Диск/Github/Practical_RL/week01_intro/videos/rl-video-episode-10.mp4\n",
            "\n"
          ]
        },
        {
          "name": "stderr",
          "output_type": "stream",
          "text": [
            "                                                               \r"
          ]
        },
        {
          "name": "stdout",
          "output_type": "stream",
          "text": [
            "Moviepy - Done !\n",
            "Moviepy - video ready /Users/fomindmitry/Google Диск/Github/Practical_RL/week01_intro/videos/rl-video-episode-10.mp4\n",
            "Moviepy - Building video /Users/fomindmitry/Google Диск/Github/Practical_RL/week01_intro/videos/rl-video-episode-11.mp4.\n",
            "Moviepy - Writing video /Users/fomindmitry/Google Диск/Github/Practical_RL/week01_intro/videos/rl-video-episode-11.mp4\n",
            "\n"
          ]
        },
        {
          "name": "stderr",
          "output_type": "stream",
          "text": [
            "                                                               \r"
          ]
        },
        {
          "name": "stdout",
          "output_type": "stream",
          "text": [
            "Moviepy - Done !\n",
            "Moviepy - video ready /Users/fomindmitry/Google Диск/Github/Practical_RL/week01_intro/videos/rl-video-episode-11.mp4\n",
            "Moviepy - Building video /Users/fomindmitry/Google Диск/Github/Practical_RL/week01_intro/videos/rl-video-episode-12.mp4.\n",
            "Moviepy - Writing video /Users/fomindmitry/Google Диск/Github/Practical_RL/week01_intro/videos/rl-video-episode-12.mp4\n",
            "\n"
          ]
        },
        {
          "name": "stderr",
          "output_type": "stream",
          "text": [
            "                                                               \r"
          ]
        },
        {
          "name": "stdout",
          "output_type": "stream",
          "text": [
            "Moviepy - Done !\n",
            "Moviepy - video ready /Users/fomindmitry/Google Диск/Github/Practical_RL/week01_intro/videos/rl-video-episode-12.mp4\n",
            "Moviepy - Building video /Users/fomindmitry/Google Диск/Github/Practical_RL/week01_intro/videos/rl-video-episode-13.mp4.\n",
            "Moviepy - Writing video /Users/fomindmitry/Google Диск/Github/Practical_RL/week01_intro/videos/rl-video-episode-13.mp4\n",
            "\n"
          ]
        },
        {
          "name": "stderr",
          "output_type": "stream",
          "text": [
            "                                                               \r"
          ]
        },
        {
          "name": "stdout",
          "output_type": "stream",
          "text": [
            "Moviepy - Done !\n",
            "Moviepy - video ready /Users/fomindmitry/Google Диск/Github/Practical_RL/week01_intro/videos/rl-video-episode-13.mp4\n",
            "Moviepy - Building video /Users/fomindmitry/Google Диск/Github/Practical_RL/week01_intro/videos/rl-video-episode-14.mp4.\n",
            "Moviepy - Writing video /Users/fomindmitry/Google Диск/Github/Practical_RL/week01_intro/videos/rl-video-episode-14.mp4\n",
            "\n"
          ]
        },
        {
          "name": "stderr",
          "output_type": "stream",
          "text": [
            "                                                               \r"
          ]
        },
        {
          "name": "stdout",
          "output_type": "stream",
          "text": [
            "Moviepy - Done !\n",
            "Moviepy - video ready /Users/fomindmitry/Google Диск/Github/Practical_RL/week01_intro/videos/rl-video-episode-14.mp4\n",
            "Moviepy - Building video /Users/fomindmitry/Google Диск/Github/Practical_RL/week01_intro/videos/rl-video-episode-15.mp4.\n",
            "Moviepy - Writing video /Users/fomindmitry/Google Диск/Github/Practical_RL/week01_intro/videos/rl-video-episode-15.mp4\n",
            "\n"
          ]
        },
        {
          "name": "stderr",
          "output_type": "stream",
          "text": [
            "                                                               \r"
          ]
        },
        {
          "name": "stdout",
          "output_type": "stream",
          "text": [
            "Moviepy - Done !\n",
            "Moviepy - video ready /Users/fomindmitry/Google Диск/Github/Practical_RL/week01_intro/videos/rl-video-episode-15.mp4\n",
            "Moviepy - Building video /Users/fomindmitry/Google Диск/Github/Practical_RL/week01_intro/videos/rl-video-episode-16.mp4.\n",
            "Moviepy - Writing video /Users/fomindmitry/Google Диск/Github/Practical_RL/week01_intro/videos/rl-video-episode-16.mp4\n",
            "\n"
          ]
        },
        {
          "name": "stderr",
          "output_type": "stream",
          "text": [
            "                                                               \r"
          ]
        },
        {
          "name": "stdout",
          "output_type": "stream",
          "text": [
            "Moviepy - Done !\n",
            "Moviepy - video ready /Users/fomindmitry/Google Диск/Github/Practical_RL/week01_intro/videos/rl-video-episode-16.mp4\n",
            "Moviepy - Building video /Users/fomindmitry/Google Диск/Github/Practical_RL/week01_intro/videos/rl-video-episode-17.mp4.\n",
            "Moviepy - Writing video /Users/fomindmitry/Google Диск/Github/Practical_RL/week01_intro/videos/rl-video-episode-17.mp4\n",
            "\n"
          ]
        },
        {
          "name": "stderr",
          "output_type": "stream",
          "text": [
            "                                                               \r"
          ]
        },
        {
          "name": "stdout",
          "output_type": "stream",
          "text": [
            "Moviepy - Done !\n",
            "Moviepy - video ready /Users/fomindmitry/Google Диск/Github/Practical_RL/week01_intro/videos/rl-video-episode-17.mp4\n",
            "Moviepy - Building video /Users/fomindmitry/Google Диск/Github/Practical_RL/week01_intro/videos/rl-video-episode-18.mp4.\n",
            "Moviepy - Writing video /Users/fomindmitry/Google Диск/Github/Practical_RL/week01_intro/videos/rl-video-episode-18.mp4\n",
            "\n"
          ]
        },
        {
          "name": "stderr",
          "output_type": "stream",
          "text": [
            "                                                               \r"
          ]
        },
        {
          "name": "stdout",
          "output_type": "stream",
          "text": [
            "Moviepy - Done !\n",
            "Moviepy - video ready /Users/fomindmitry/Google Диск/Github/Practical_RL/week01_intro/videos/rl-video-episode-18.mp4\n",
            "Moviepy - Building video /Users/fomindmitry/Google Диск/Github/Practical_RL/week01_intro/videos/rl-video-episode-19.mp4.\n",
            "Moviepy - Writing video /Users/fomindmitry/Google Диск/Github/Practical_RL/week01_intro/videos/rl-video-episode-19.mp4\n",
            "\n"
          ]
        },
        {
          "name": "stderr",
          "output_type": "stream",
          "text": [
            "                                                               \r"
          ]
        },
        {
          "name": "stdout",
          "output_type": "stream",
          "text": [
            "Moviepy - Done !\n",
            "Moviepy - video ready /Users/fomindmitry/Google Диск/Github/Practical_RL/week01_intro/videos/rl-video-episode-19.mp4\n",
            "Moviepy - Building video /Users/fomindmitry/Google Диск/Github/Practical_RL/week01_intro/videos/rl-video-episode-20.mp4.\n",
            "Moviepy - Writing video /Users/fomindmitry/Google Диск/Github/Practical_RL/week01_intro/videos/rl-video-episode-20.mp4\n",
            "\n"
          ]
        },
        {
          "name": "stderr",
          "output_type": "stream",
          "text": [
            "                                                               \r"
          ]
        },
        {
          "name": "stdout",
          "output_type": "stream",
          "text": [
            "Moviepy - Done !\n",
            "Moviepy - video ready /Users/fomindmitry/Google Диск/Github/Practical_RL/week01_intro/videos/rl-video-episode-20.mp4\n",
            "Moviepy - Building video /Users/fomindmitry/Google Диск/Github/Practical_RL/week01_intro/videos/rl-video-episode-21.mp4.\n",
            "Moviepy - Writing video /Users/fomindmitry/Google Диск/Github/Practical_RL/week01_intro/videos/rl-video-episode-21.mp4\n",
            "\n"
          ]
        },
        {
          "name": "stderr",
          "output_type": "stream",
          "text": [
            "                                                               \r"
          ]
        },
        {
          "name": "stdout",
          "output_type": "stream",
          "text": [
            "Moviepy - Done !\n",
            "Moviepy - video ready /Users/fomindmitry/Google Диск/Github/Practical_RL/week01_intro/videos/rl-video-episode-21.mp4\n",
            "Moviepy - Building video /Users/fomindmitry/Google Диск/Github/Practical_RL/week01_intro/videos/rl-video-episode-22.mp4.\n",
            "Moviepy - Writing video /Users/fomindmitry/Google Диск/Github/Practical_RL/week01_intro/videos/rl-video-episode-22.mp4\n",
            "\n"
          ]
        },
        {
          "name": "stderr",
          "output_type": "stream",
          "text": [
            "                                                               \r"
          ]
        },
        {
          "name": "stdout",
          "output_type": "stream",
          "text": [
            "Moviepy - Done !\n",
            "Moviepy - video ready /Users/fomindmitry/Google Диск/Github/Practical_RL/week01_intro/videos/rl-video-episode-22.mp4\n",
            "Moviepy - Building video /Users/fomindmitry/Google Диск/Github/Practical_RL/week01_intro/videos/rl-video-episode-23.mp4.\n",
            "Moviepy - Writing video /Users/fomindmitry/Google Диск/Github/Practical_RL/week01_intro/videos/rl-video-episode-23.mp4\n",
            "\n"
          ]
        },
        {
          "name": "stderr",
          "output_type": "stream",
          "text": [
            "                                                               \r"
          ]
        },
        {
          "name": "stdout",
          "output_type": "stream",
          "text": [
            "Moviepy - Done !\n",
            "Moviepy - video ready /Users/fomindmitry/Google Диск/Github/Practical_RL/week01_intro/videos/rl-video-episode-23.mp4\n",
            "Moviepy - Building video /Users/fomindmitry/Google Диск/Github/Practical_RL/week01_intro/videos/rl-video-episode-24.mp4.\n",
            "Moviepy - Writing video /Users/fomindmitry/Google Диск/Github/Practical_RL/week01_intro/videos/rl-video-episode-24.mp4\n",
            "\n"
          ]
        },
        {
          "name": "stderr",
          "output_type": "stream",
          "text": [
            "                                                               \r"
          ]
        },
        {
          "name": "stdout",
          "output_type": "stream",
          "text": [
            "Moviepy - Done !\n",
            "Moviepy - video ready /Users/fomindmitry/Google Диск/Github/Practical_RL/week01_intro/videos/rl-video-episode-24.mp4\n",
            "Moviepy - Building video /Users/fomindmitry/Google Диск/Github/Practical_RL/week01_intro/videos/rl-video-episode-25.mp4.\n",
            "Moviepy - Writing video /Users/fomindmitry/Google Диск/Github/Practical_RL/week01_intro/videos/rl-video-episode-25.mp4\n",
            "\n"
          ]
        },
        {
          "name": "stderr",
          "output_type": "stream",
          "text": [
            "                                                               \r"
          ]
        },
        {
          "name": "stdout",
          "output_type": "stream",
          "text": [
            "Moviepy - Done !\n",
            "Moviepy - video ready /Users/fomindmitry/Google Диск/Github/Practical_RL/week01_intro/videos/rl-video-episode-25.mp4\n",
            "Moviepy - Building video /Users/fomindmitry/Google Диск/Github/Practical_RL/week01_intro/videos/rl-video-episode-26.mp4.\n",
            "Moviepy - Writing video /Users/fomindmitry/Google Диск/Github/Practical_RL/week01_intro/videos/rl-video-episode-26.mp4\n",
            "\n"
          ]
        },
        {
          "name": "stderr",
          "output_type": "stream",
          "text": [
            "                                                               \r"
          ]
        },
        {
          "name": "stdout",
          "output_type": "stream",
          "text": [
            "Moviepy - Done !\n",
            "Moviepy - video ready /Users/fomindmitry/Google Диск/Github/Practical_RL/week01_intro/videos/rl-video-episode-26.mp4\n",
            "Moviepy - Building video /Users/fomindmitry/Google Диск/Github/Practical_RL/week01_intro/videos/rl-video-episode-27.mp4.\n",
            "Moviepy - Writing video /Users/fomindmitry/Google Диск/Github/Practical_RL/week01_intro/videos/rl-video-episode-27.mp4\n",
            "\n"
          ]
        },
        {
          "name": "stderr",
          "output_type": "stream",
          "text": [
            "                                                               \r"
          ]
        },
        {
          "name": "stdout",
          "output_type": "stream",
          "text": [
            "Moviepy - Done !\n",
            "Moviepy - video ready /Users/fomindmitry/Google Диск/Github/Practical_RL/week01_intro/videos/rl-video-episode-27.mp4\n",
            "Moviepy - Building video /Users/fomindmitry/Google Диск/Github/Practical_RL/week01_intro/videos/rl-video-episode-28.mp4.\n",
            "Moviepy - Writing video /Users/fomindmitry/Google Диск/Github/Practical_RL/week01_intro/videos/rl-video-episode-28.mp4\n",
            "\n"
          ]
        },
        {
          "name": "stderr",
          "output_type": "stream",
          "text": [
            "                                                               \r"
          ]
        },
        {
          "name": "stdout",
          "output_type": "stream",
          "text": [
            "Moviepy - Done !\n",
            "Moviepy - video ready /Users/fomindmitry/Google Диск/Github/Practical_RL/week01_intro/videos/rl-video-episode-28.mp4\n",
            "Moviepy - Building video /Users/fomindmitry/Google Диск/Github/Practical_RL/week01_intro/videos/rl-video-episode-29.mp4.\n",
            "Moviepy - Writing video /Users/fomindmitry/Google Диск/Github/Practical_RL/week01_intro/videos/rl-video-episode-29.mp4\n",
            "\n"
          ]
        },
        {
          "name": "stderr",
          "output_type": "stream",
          "text": [
            "                                                               \r"
          ]
        },
        {
          "name": "stdout",
          "output_type": "stream",
          "text": [
            "Moviepy - Done !\n",
            "Moviepy - video ready /Users/fomindmitry/Google Диск/Github/Practical_RL/week01_intro/videos/rl-video-episode-29.mp4\n",
            "Moviepy - Building video /Users/fomindmitry/Google Диск/Github/Practical_RL/week01_intro/videos/rl-video-episode-30.mp4.\n",
            "Moviepy - Writing video /Users/fomindmitry/Google Диск/Github/Practical_RL/week01_intro/videos/rl-video-episode-30.mp4\n",
            "\n"
          ]
        },
        {
          "name": "stderr",
          "output_type": "stream",
          "text": [
            "                                                               \r"
          ]
        },
        {
          "name": "stdout",
          "output_type": "stream",
          "text": [
            "Moviepy - Done !\n",
            "Moviepy - video ready /Users/fomindmitry/Google Диск/Github/Practical_RL/week01_intro/videos/rl-video-episode-30.mp4\n",
            "Moviepy - Building video /Users/fomindmitry/Google Диск/Github/Practical_RL/week01_intro/videos/rl-video-episode-31.mp4.\n",
            "Moviepy - Writing video /Users/fomindmitry/Google Диск/Github/Practical_RL/week01_intro/videos/rl-video-episode-31.mp4\n",
            "\n"
          ]
        },
        {
          "name": "stderr",
          "output_type": "stream",
          "text": [
            "                                                               \r"
          ]
        },
        {
          "name": "stdout",
          "output_type": "stream",
          "text": [
            "Moviepy - Done !\n",
            "Moviepy - video ready /Users/fomindmitry/Google Диск/Github/Practical_RL/week01_intro/videos/rl-video-episode-31.mp4\n",
            "Moviepy - Building video /Users/fomindmitry/Google Диск/Github/Practical_RL/week01_intro/videos/rl-video-episode-32.mp4.\n",
            "Moviepy - Writing video /Users/fomindmitry/Google Диск/Github/Practical_RL/week01_intro/videos/rl-video-episode-32.mp4\n",
            "\n"
          ]
        },
        {
          "name": "stderr",
          "output_type": "stream",
          "text": [
            "                                                               \r"
          ]
        },
        {
          "name": "stdout",
          "output_type": "stream",
          "text": [
            "Moviepy - Done !\n",
            "Moviepy - video ready /Users/fomindmitry/Google Диск/Github/Practical_RL/week01_intro/videos/rl-video-episode-32.mp4\n",
            "Moviepy - Building video /Users/fomindmitry/Google Диск/Github/Practical_RL/week01_intro/videos/rl-video-episode-33.mp4.\n",
            "Moviepy - Writing video /Users/fomindmitry/Google Диск/Github/Practical_RL/week01_intro/videos/rl-video-episode-33.mp4\n",
            "\n"
          ]
        },
        {
          "name": "stderr",
          "output_type": "stream",
          "text": [
            "                                                               \r"
          ]
        },
        {
          "name": "stdout",
          "output_type": "stream",
          "text": [
            "Moviepy - Done !\n",
            "Moviepy - video ready /Users/fomindmitry/Google Диск/Github/Practical_RL/week01_intro/videos/rl-video-episode-33.mp4\n",
            "Moviepy - Building video /Users/fomindmitry/Google Диск/Github/Practical_RL/week01_intro/videos/rl-video-episode-34.mp4.\n",
            "Moviepy - Writing video /Users/fomindmitry/Google Диск/Github/Practical_RL/week01_intro/videos/rl-video-episode-34.mp4\n",
            "\n"
          ]
        },
        {
          "name": "stderr",
          "output_type": "stream",
          "text": [
            "                                                               \r"
          ]
        },
        {
          "name": "stdout",
          "output_type": "stream",
          "text": [
            "Moviepy - Done !\n",
            "Moviepy - video ready /Users/fomindmitry/Google Диск/Github/Practical_RL/week01_intro/videos/rl-video-episode-34.mp4\n",
            "Moviepy - Building video /Users/fomindmitry/Google Диск/Github/Practical_RL/week01_intro/videos/rl-video-episode-35.mp4.\n",
            "Moviepy - Writing video /Users/fomindmitry/Google Диск/Github/Practical_RL/week01_intro/videos/rl-video-episode-35.mp4\n",
            "\n"
          ]
        },
        {
          "name": "stderr",
          "output_type": "stream",
          "text": [
            "                                                               \r"
          ]
        },
        {
          "name": "stdout",
          "output_type": "stream",
          "text": [
            "Moviepy - Done !\n",
            "Moviepy - video ready /Users/fomindmitry/Google Диск/Github/Practical_RL/week01_intro/videos/rl-video-episode-35.mp4\n",
            "Moviepy - Building video /Users/fomindmitry/Google Диск/Github/Practical_RL/week01_intro/videos/rl-video-episode-36.mp4.\n",
            "Moviepy - Writing video /Users/fomindmitry/Google Диск/Github/Practical_RL/week01_intro/videos/rl-video-episode-36.mp4\n",
            "\n"
          ]
        },
        {
          "name": "stderr",
          "output_type": "stream",
          "text": [
            "                                                               \r"
          ]
        },
        {
          "name": "stdout",
          "output_type": "stream",
          "text": [
            "Moviepy - Done !\n",
            "Moviepy - video ready /Users/fomindmitry/Google Диск/Github/Practical_RL/week01_intro/videos/rl-video-episode-36.mp4\n",
            "Moviepy - Building video /Users/fomindmitry/Google Диск/Github/Practical_RL/week01_intro/videos/rl-video-episode-37.mp4.\n",
            "Moviepy - Writing video /Users/fomindmitry/Google Диск/Github/Practical_RL/week01_intro/videos/rl-video-episode-37.mp4\n",
            "\n"
          ]
        },
        {
          "name": "stderr",
          "output_type": "stream",
          "text": [
            "                                                               \r"
          ]
        },
        {
          "name": "stdout",
          "output_type": "stream",
          "text": [
            "Moviepy - Done !\n",
            "Moviepy - video ready /Users/fomindmitry/Google Диск/Github/Practical_RL/week01_intro/videos/rl-video-episode-37.mp4\n",
            "Moviepy - Building video /Users/fomindmitry/Google Диск/Github/Practical_RL/week01_intro/videos/rl-video-episode-38.mp4.\n",
            "Moviepy - Writing video /Users/fomindmitry/Google Диск/Github/Practical_RL/week01_intro/videos/rl-video-episode-38.mp4\n",
            "\n"
          ]
        },
        {
          "name": "stderr",
          "output_type": "stream",
          "text": [
            "                                                             \r"
          ]
        },
        {
          "name": "stdout",
          "output_type": "stream",
          "text": [
            "Moviepy - Done !\n",
            "Moviepy - video ready /Users/fomindmitry/Google Диск/Github/Practical_RL/week01_intro/videos/rl-video-episode-38.mp4\n",
            "Moviepy - Building video /Users/fomindmitry/Google Диск/Github/Practical_RL/week01_intro/videos/rl-video-episode-39.mp4.\n",
            "Moviepy - Writing video /Users/fomindmitry/Google Диск/Github/Practical_RL/week01_intro/videos/rl-video-episode-39.mp4\n",
            "\n"
          ]
        },
        {
          "name": "stderr",
          "output_type": "stream",
          "text": [
            "                                                               \r"
          ]
        },
        {
          "name": "stdout",
          "output_type": "stream",
          "text": [
            "Moviepy - Done !\n",
            "Moviepy - video ready /Users/fomindmitry/Google Диск/Github/Practical_RL/week01_intro/videos/rl-video-episode-39.mp4\n",
            "Moviepy - Building video /Users/fomindmitry/Google Диск/Github/Practical_RL/week01_intro/videos/rl-video-episode-40.mp4.\n",
            "Moviepy - Writing video /Users/fomindmitry/Google Диск/Github/Practical_RL/week01_intro/videos/rl-video-episode-40.mp4\n",
            "\n"
          ]
        },
        {
          "name": "stderr",
          "output_type": "stream",
          "text": [
            "                                                               \r"
          ]
        },
        {
          "name": "stdout",
          "output_type": "stream",
          "text": [
            "Moviepy - Done !\n",
            "Moviepy - video ready /Users/fomindmitry/Google Диск/Github/Practical_RL/week01_intro/videos/rl-video-episode-40.mp4\n",
            "Moviepy - Building video /Users/fomindmitry/Google Диск/Github/Practical_RL/week01_intro/videos/rl-video-episode-41.mp4.\n",
            "Moviepy - Writing video /Users/fomindmitry/Google Диск/Github/Practical_RL/week01_intro/videos/rl-video-episode-41.mp4\n",
            "\n"
          ]
        },
        {
          "name": "stderr",
          "output_type": "stream",
          "text": [
            "                                                               \r"
          ]
        },
        {
          "name": "stdout",
          "output_type": "stream",
          "text": [
            "Moviepy - Done !\n",
            "Moviepy - video ready /Users/fomindmitry/Google Диск/Github/Practical_RL/week01_intro/videos/rl-video-episode-41.mp4\n",
            "Moviepy - Building video /Users/fomindmitry/Google Диск/Github/Practical_RL/week01_intro/videos/rl-video-episode-42.mp4.\n",
            "Moviepy - Writing video /Users/fomindmitry/Google Диск/Github/Practical_RL/week01_intro/videos/rl-video-episode-42.mp4\n",
            "\n"
          ]
        },
        {
          "name": "stderr",
          "output_type": "stream",
          "text": [
            "                                                               \r"
          ]
        },
        {
          "name": "stdout",
          "output_type": "stream",
          "text": [
            "Moviepy - Done !\n",
            "Moviepy - video ready /Users/fomindmitry/Google Диск/Github/Practical_RL/week01_intro/videos/rl-video-episode-42.mp4\n",
            "Moviepy - Building video /Users/fomindmitry/Google Диск/Github/Practical_RL/week01_intro/videos/rl-video-episode-43.mp4.\n",
            "Moviepy - Writing video /Users/fomindmitry/Google Диск/Github/Practical_RL/week01_intro/videos/rl-video-episode-43.mp4\n",
            "\n"
          ]
        },
        {
          "name": "stderr",
          "output_type": "stream",
          "text": [
            "                                                               \r"
          ]
        },
        {
          "name": "stdout",
          "output_type": "stream",
          "text": [
            "Moviepy - Done !\n",
            "Moviepy - video ready /Users/fomindmitry/Google Диск/Github/Practical_RL/week01_intro/videos/rl-video-episode-43.mp4\n",
            "Moviepy - Building video /Users/fomindmitry/Google Диск/Github/Practical_RL/week01_intro/videos/rl-video-episode-44.mp4.\n",
            "Moviepy - Writing video /Users/fomindmitry/Google Диск/Github/Practical_RL/week01_intro/videos/rl-video-episode-44.mp4\n",
            "\n"
          ]
        },
        {
          "name": "stderr",
          "output_type": "stream",
          "text": [
            "                                                               \r"
          ]
        },
        {
          "name": "stdout",
          "output_type": "stream",
          "text": [
            "Moviepy - Done !\n",
            "Moviepy - video ready /Users/fomindmitry/Google Диск/Github/Practical_RL/week01_intro/videos/rl-video-episode-44.mp4\n",
            "Moviepy - Building video /Users/fomindmitry/Google Диск/Github/Practical_RL/week01_intro/videos/rl-video-episode-45.mp4.\n",
            "Moviepy - Writing video /Users/fomindmitry/Google Диск/Github/Practical_RL/week01_intro/videos/rl-video-episode-45.mp4\n",
            "\n"
          ]
        },
        {
          "name": "stderr",
          "output_type": "stream",
          "text": [
            "                                                             \r"
          ]
        },
        {
          "name": "stdout",
          "output_type": "stream",
          "text": [
            "Moviepy - Done !\n",
            "Moviepy - video ready /Users/fomindmitry/Google Диск/Github/Practical_RL/week01_intro/videos/rl-video-episode-45.mp4\n",
            "Moviepy - Building video /Users/fomindmitry/Google Диск/Github/Practical_RL/week01_intro/videos/rl-video-episode-46.mp4.\n",
            "Moviepy - Writing video /Users/fomindmitry/Google Диск/Github/Practical_RL/week01_intro/videos/rl-video-episode-46.mp4\n",
            "\n"
          ]
        },
        {
          "name": "stderr",
          "output_type": "stream",
          "text": [
            "                                                               \r"
          ]
        },
        {
          "name": "stdout",
          "output_type": "stream",
          "text": [
            "Moviepy - Done !\n",
            "Moviepy - video ready /Users/fomindmitry/Google Диск/Github/Practical_RL/week01_intro/videos/rl-video-episode-46.mp4\n",
            "Moviepy - Building video /Users/fomindmitry/Google Диск/Github/Practical_RL/week01_intro/videos/rl-video-episode-47.mp4.\n",
            "Moviepy - Writing video /Users/fomindmitry/Google Диск/Github/Practical_RL/week01_intro/videos/rl-video-episode-47.mp4\n",
            "\n"
          ]
        },
        {
          "name": "stderr",
          "output_type": "stream",
          "text": [
            "                                                               \r"
          ]
        },
        {
          "name": "stdout",
          "output_type": "stream",
          "text": [
            "Moviepy - Done !\n",
            "Moviepy - video ready /Users/fomindmitry/Google Диск/Github/Practical_RL/week01_intro/videos/rl-video-episode-47.mp4\n",
            "Moviepy - Building video /Users/fomindmitry/Google Диск/Github/Practical_RL/week01_intro/videos/rl-video-episode-48.mp4.\n",
            "Moviepy - Writing video /Users/fomindmitry/Google Диск/Github/Practical_RL/week01_intro/videos/rl-video-episode-48.mp4\n",
            "\n"
          ]
        },
        {
          "name": "stderr",
          "output_type": "stream",
          "text": [
            "                                                               \r"
          ]
        },
        {
          "name": "stdout",
          "output_type": "stream",
          "text": [
            "Moviepy - Done !\n",
            "Moviepy - video ready /Users/fomindmitry/Google Диск/Github/Practical_RL/week01_intro/videos/rl-video-episode-48.mp4\n",
            "Moviepy - Building video /Users/fomindmitry/Google Диск/Github/Practical_RL/week01_intro/videos/rl-video-episode-49.mp4.\n",
            "Moviepy - Writing video /Users/fomindmitry/Google Диск/Github/Practical_RL/week01_intro/videos/rl-video-episode-49.mp4\n",
            "\n"
          ]
        },
        {
          "name": "stderr",
          "output_type": "stream",
          "text": [
            "                                                               \r"
          ]
        },
        {
          "name": "stdout",
          "output_type": "stream",
          "text": [
            "Moviepy - Done !\n",
            "Moviepy - video ready /Users/fomindmitry/Google Диск/Github/Practical_RL/week01_intro/videos/rl-video-episode-49.mp4\n",
            "Moviepy - Building video /Users/fomindmitry/Google Диск/Github/Practical_RL/week01_intro/videos/rl-video-episode-50.mp4.\n",
            "Moviepy - Writing video /Users/fomindmitry/Google Диск/Github/Practical_RL/week01_intro/videos/rl-video-episode-50.mp4\n",
            "\n"
          ]
        },
        {
          "name": "stderr",
          "output_type": "stream",
          "text": [
            "                                                              \r"
          ]
        },
        {
          "name": "stdout",
          "output_type": "stream",
          "text": [
            "Moviepy - Done !\n",
            "Moviepy - video ready /Users/fomindmitry/Google Диск/Github/Practical_RL/week01_intro/videos/rl-video-episode-50.mp4\n",
            "Moviepy - Building video /Users/fomindmitry/Google Диск/Github/Practical_RL/week01_intro/videos/rl-video-episode-51.mp4.\n",
            "Moviepy - Writing video /Users/fomindmitry/Google Диск/Github/Practical_RL/week01_intro/videos/rl-video-episode-51.mp4\n",
            "\n"
          ]
        },
        {
          "name": "stderr",
          "output_type": "stream",
          "text": [
            "                                                               \r"
          ]
        },
        {
          "name": "stdout",
          "output_type": "stream",
          "text": [
            "Moviepy - Done !\n",
            "Moviepy - video ready /Users/fomindmitry/Google Диск/Github/Practical_RL/week01_intro/videos/rl-video-episode-51.mp4\n",
            "Moviepy - Building video /Users/fomindmitry/Google Диск/Github/Practical_RL/week01_intro/videos/rl-video-episode-52.mp4.\n",
            "Moviepy - Writing video /Users/fomindmitry/Google Диск/Github/Practical_RL/week01_intro/videos/rl-video-episode-52.mp4\n",
            "\n"
          ]
        },
        {
          "name": "stderr",
          "output_type": "stream",
          "text": [
            "                                                             \r"
          ]
        },
        {
          "name": "stdout",
          "output_type": "stream",
          "text": [
            "Moviepy - Done !\n",
            "Moviepy - video ready /Users/fomindmitry/Google Диск/Github/Practical_RL/week01_intro/videos/rl-video-episode-52.mp4\n",
            "Moviepy - Building video /Users/fomindmitry/Google Диск/Github/Practical_RL/week01_intro/videos/rl-video-episode-53.mp4.\n",
            "Moviepy - Writing video /Users/fomindmitry/Google Диск/Github/Practical_RL/week01_intro/videos/rl-video-episode-53.mp4\n",
            "\n"
          ]
        },
        {
          "name": "stderr",
          "output_type": "stream",
          "text": [
            "                                                               \r"
          ]
        },
        {
          "name": "stdout",
          "output_type": "stream",
          "text": [
            "Moviepy - Done !\n",
            "Moviepy - video ready /Users/fomindmitry/Google Диск/Github/Practical_RL/week01_intro/videos/rl-video-episode-53.mp4\n",
            "Moviepy - Building video /Users/fomindmitry/Google Диск/Github/Practical_RL/week01_intro/videos/rl-video-episode-54.mp4.\n",
            "Moviepy - Writing video /Users/fomindmitry/Google Диск/Github/Practical_RL/week01_intro/videos/rl-video-episode-54.mp4\n",
            "\n"
          ]
        },
        {
          "name": "stderr",
          "output_type": "stream",
          "text": [
            "                                                               \r"
          ]
        },
        {
          "name": "stdout",
          "output_type": "stream",
          "text": [
            "Moviepy - Done !\n",
            "Moviepy - video ready /Users/fomindmitry/Google Диск/Github/Practical_RL/week01_intro/videos/rl-video-episode-54.mp4\n",
            "Moviepy - Building video /Users/fomindmitry/Google Диск/Github/Practical_RL/week01_intro/videos/rl-video-episode-55.mp4.\n",
            "Moviepy - Writing video /Users/fomindmitry/Google Диск/Github/Practical_RL/week01_intro/videos/rl-video-episode-55.mp4\n",
            "\n"
          ]
        },
        {
          "name": "stderr",
          "output_type": "stream",
          "text": [
            "                                                               \r"
          ]
        },
        {
          "name": "stdout",
          "output_type": "stream",
          "text": [
            "Moviepy - Done !\n",
            "Moviepy - video ready /Users/fomindmitry/Google Диск/Github/Practical_RL/week01_intro/videos/rl-video-episode-55.mp4\n",
            "Moviepy - Building video /Users/fomindmitry/Google Диск/Github/Practical_RL/week01_intro/videos/rl-video-episode-56.mp4.\n",
            "Moviepy - Writing video /Users/fomindmitry/Google Диск/Github/Practical_RL/week01_intro/videos/rl-video-episode-56.mp4\n",
            "\n"
          ]
        },
        {
          "name": "stderr",
          "output_type": "stream",
          "text": [
            "                                                               \r"
          ]
        },
        {
          "name": "stdout",
          "output_type": "stream",
          "text": [
            "Moviepy - Done !\n",
            "Moviepy - video ready /Users/fomindmitry/Google Диск/Github/Practical_RL/week01_intro/videos/rl-video-episode-56.mp4\n",
            "Moviepy - Building video /Users/fomindmitry/Google Диск/Github/Practical_RL/week01_intro/videos/rl-video-episode-57.mp4.\n",
            "Moviepy - Writing video /Users/fomindmitry/Google Диск/Github/Practical_RL/week01_intro/videos/rl-video-episode-57.mp4\n",
            "\n"
          ]
        },
        {
          "name": "stderr",
          "output_type": "stream",
          "text": [
            "                                                               \r"
          ]
        },
        {
          "name": "stdout",
          "output_type": "stream",
          "text": [
            "Moviepy - Done !\n",
            "Moviepy - video ready /Users/fomindmitry/Google Диск/Github/Practical_RL/week01_intro/videos/rl-video-episode-57.mp4\n",
            "Moviepy - Building video /Users/fomindmitry/Google Диск/Github/Practical_RL/week01_intro/videos/rl-video-episode-58.mp4.\n",
            "Moviepy - Writing video /Users/fomindmitry/Google Диск/Github/Practical_RL/week01_intro/videos/rl-video-episode-58.mp4\n",
            "\n"
          ]
        },
        {
          "name": "stderr",
          "output_type": "stream",
          "text": [
            "                                                               \r"
          ]
        },
        {
          "name": "stdout",
          "output_type": "stream",
          "text": [
            "Moviepy - Done !\n",
            "Moviepy - video ready /Users/fomindmitry/Google Диск/Github/Practical_RL/week01_intro/videos/rl-video-episode-58.mp4\n",
            "Moviepy - Building video /Users/fomindmitry/Google Диск/Github/Practical_RL/week01_intro/videos/rl-video-episode-59.mp4.\n",
            "Moviepy - Writing video /Users/fomindmitry/Google Диск/Github/Practical_RL/week01_intro/videos/rl-video-episode-59.mp4\n",
            "\n"
          ]
        },
        {
          "name": "stderr",
          "output_type": "stream",
          "text": [
            "                                                               \r"
          ]
        },
        {
          "name": "stdout",
          "output_type": "stream",
          "text": [
            "Moviepy - Done !\n",
            "Moviepy - video ready /Users/fomindmitry/Google Диск/Github/Practical_RL/week01_intro/videos/rl-video-episode-59.mp4\n",
            "Moviepy - Building video /Users/fomindmitry/Google Диск/Github/Practical_RL/week01_intro/videos/rl-video-episode-60.mp4.\n",
            "Moviepy - Writing video /Users/fomindmitry/Google Диск/Github/Practical_RL/week01_intro/videos/rl-video-episode-60.mp4\n",
            "\n"
          ]
        },
        {
          "name": "stderr",
          "output_type": "stream",
          "text": [
            "                                                             \r"
          ]
        },
        {
          "name": "stdout",
          "output_type": "stream",
          "text": [
            "Moviepy - Done !\n",
            "Moviepy - video ready /Users/fomindmitry/Google Диск/Github/Practical_RL/week01_intro/videos/rl-video-episode-60.mp4\n",
            "Moviepy - Building video /Users/fomindmitry/Google Диск/Github/Practical_RL/week01_intro/videos/rl-video-episode-61.mp4.\n",
            "Moviepy - Writing video /Users/fomindmitry/Google Диск/Github/Practical_RL/week01_intro/videos/rl-video-episode-61.mp4\n",
            "\n"
          ]
        },
        {
          "name": "stderr",
          "output_type": "stream",
          "text": [
            "                                                               \r"
          ]
        },
        {
          "name": "stdout",
          "output_type": "stream",
          "text": [
            "Moviepy - Done !\n",
            "Moviepy - video ready /Users/fomindmitry/Google Диск/Github/Practical_RL/week01_intro/videos/rl-video-episode-61.mp4\n",
            "Moviepy - Building video /Users/fomindmitry/Google Диск/Github/Practical_RL/week01_intro/videos/rl-video-episode-62.mp4.\n",
            "Moviepy - Writing video /Users/fomindmitry/Google Диск/Github/Practical_RL/week01_intro/videos/rl-video-episode-62.mp4\n",
            "\n"
          ]
        },
        {
          "name": "stderr",
          "output_type": "stream",
          "text": [
            "                                                               \r"
          ]
        },
        {
          "name": "stdout",
          "output_type": "stream",
          "text": [
            "Moviepy - Done !\n",
            "Moviepy - video ready /Users/fomindmitry/Google Диск/Github/Practical_RL/week01_intro/videos/rl-video-episode-62.mp4\n",
            "Moviepy - Building video /Users/fomindmitry/Google Диск/Github/Practical_RL/week01_intro/videos/rl-video-episode-63.mp4.\n",
            "Moviepy - Writing video /Users/fomindmitry/Google Диск/Github/Practical_RL/week01_intro/videos/rl-video-episode-63.mp4\n",
            "\n"
          ]
        },
        {
          "name": "stderr",
          "output_type": "stream",
          "text": [
            "                                                               \r"
          ]
        },
        {
          "name": "stdout",
          "output_type": "stream",
          "text": [
            "Moviepy - Done !\n",
            "Moviepy - video ready /Users/fomindmitry/Google Диск/Github/Practical_RL/week01_intro/videos/rl-video-episode-63.mp4\n",
            "Moviepy - Building video /Users/fomindmitry/Google Диск/Github/Practical_RL/week01_intro/videos/rl-video-episode-64.mp4.\n",
            "Moviepy - Writing video /Users/fomindmitry/Google Диск/Github/Practical_RL/week01_intro/videos/rl-video-episode-64.mp4\n",
            "\n"
          ]
        },
        {
          "name": "stderr",
          "output_type": "stream",
          "text": [
            "                                                               \r"
          ]
        },
        {
          "name": "stdout",
          "output_type": "stream",
          "text": [
            "Moviepy - Done !\n",
            "Moviepy - video ready /Users/fomindmitry/Google Диск/Github/Practical_RL/week01_intro/videos/rl-video-episode-64.mp4\n",
            "Moviepy - Building video /Users/fomindmitry/Google Диск/Github/Practical_RL/week01_intro/videos/rl-video-episode-65.mp4.\n",
            "Moviepy - Writing video /Users/fomindmitry/Google Диск/Github/Practical_RL/week01_intro/videos/rl-video-episode-65.mp4\n",
            "\n"
          ]
        },
        {
          "name": "stderr",
          "output_type": "stream",
          "text": [
            "                                                               \r"
          ]
        },
        {
          "name": "stdout",
          "output_type": "stream",
          "text": [
            "Moviepy - Done !\n",
            "Moviepy - video ready /Users/fomindmitry/Google Диск/Github/Practical_RL/week01_intro/videos/rl-video-episode-65.mp4\n",
            "Moviepy - Building video /Users/fomindmitry/Google Диск/Github/Practical_RL/week01_intro/videos/rl-video-episode-66.mp4.\n",
            "Moviepy - Writing video /Users/fomindmitry/Google Диск/Github/Practical_RL/week01_intro/videos/rl-video-episode-66.mp4\n",
            "\n"
          ]
        },
        {
          "name": "stderr",
          "output_type": "stream",
          "text": [
            "                                                               \r"
          ]
        },
        {
          "name": "stdout",
          "output_type": "stream",
          "text": [
            "Moviepy - Done !\n",
            "Moviepy - video ready /Users/fomindmitry/Google Диск/Github/Practical_RL/week01_intro/videos/rl-video-episode-66.mp4\n",
            "Moviepy - Building video /Users/fomindmitry/Google Диск/Github/Practical_RL/week01_intro/videos/rl-video-episode-67.mp4.\n",
            "Moviepy - Writing video /Users/fomindmitry/Google Диск/Github/Practical_RL/week01_intro/videos/rl-video-episode-67.mp4\n",
            "\n"
          ]
        },
        {
          "name": "stderr",
          "output_type": "stream",
          "text": [
            "                                                               \r"
          ]
        },
        {
          "name": "stdout",
          "output_type": "stream",
          "text": [
            "Moviepy - Done !\n",
            "Moviepy - video ready /Users/fomindmitry/Google Диск/Github/Practical_RL/week01_intro/videos/rl-video-episode-67.mp4\n",
            "Moviepy - Building video /Users/fomindmitry/Google Диск/Github/Practical_RL/week01_intro/videos/rl-video-episode-68.mp4.\n",
            "Moviepy - Writing video /Users/fomindmitry/Google Диск/Github/Practical_RL/week01_intro/videos/rl-video-episode-68.mp4\n",
            "\n"
          ]
        },
        {
          "name": "stderr",
          "output_type": "stream",
          "text": [
            "                                                               \r"
          ]
        },
        {
          "name": "stdout",
          "output_type": "stream",
          "text": [
            "Moviepy - Done !\n",
            "Moviepy - video ready /Users/fomindmitry/Google Диск/Github/Practical_RL/week01_intro/videos/rl-video-episode-68.mp4\n",
            "Moviepy - Building video /Users/fomindmitry/Google Диск/Github/Practical_RL/week01_intro/videos/rl-video-episode-69.mp4.\n",
            "Moviepy - Writing video /Users/fomindmitry/Google Диск/Github/Practical_RL/week01_intro/videos/rl-video-episode-69.mp4\n",
            "\n"
          ]
        },
        {
          "name": "stderr",
          "output_type": "stream",
          "text": [
            "                                                               \r"
          ]
        },
        {
          "name": "stdout",
          "output_type": "stream",
          "text": [
            "Moviepy - Done !\n",
            "Moviepy - video ready /Users/fomindmitry/Google Диск/Github/Practical_RL/week01_intro/videos/rl-video-episode-69.mp4\n",
            "Moviepy - Building video /Users/fomindmitry/Google Диск/Github/Practical_RL/week01_intro/videos/rl-video-episode-70.mp4.\n",
            "Moviepy - Writing video /Users/fomindmitry/Google Диск/Github/Practical_RL/week01_intro/videos/rl-video-episode-70.mp4\n",
            "\n"
          ]
        },
        {
          "name": "stderr",
          "output_type": "stream",
          "text": [
            "                                                               \r"
          ]
        },
        {
          "name": "stdout",
          "output_type": "stream",
          "text": [
            "Moviepy - Done !\n",
            "Moviepy - video ready /Users/fomindmitry/Google Диск/Github/Practical_RL/week01_intro/videos/rl-video-episode-70.mp4\n",
            "Moviepy - Building video /Users/fomindmitry/Google Диск/Github/Practical_RL/week01_intro/videos/rl-video-episode-71.mp4.\n",
            "Moviepy - Writing video /Users/fomindmitry/Google Диск/Github/Practical_RL/week01_intro/videos/rl-video-episode-71.mp4\n",
            "\n"
          ]
        },
        {
          "name": "stderr",
          "output_type": "stream",
          "text": [
            "                                                              \r"
          ]
        },
        {
          "name": "stdout",
          "output_type": "stream",
          "text": [
            "Moviepy - Done !\n",
            "Moviepy - video ready /Users/fomindmitry/Google Диск/Github/Practical_RL/week01_intro/videos/rl-video-episode-71.mp4\n",
            "Moviepy - Building video /Users/fomindmitry/Google Диск/Github/Practical_RL/week01_intro/videos/rl-video-episode-72.mp4.\n",
            "Moviepy - Writing video /Users/fomindmitry/Google Диск/Github/Practical_RL/week01_intro/videos/rl-video-episode-72.mp4\n",
            "\n"
          ]
        },
        {
          "name": "stderr",
          "output_type": "stream",
          "text": [
            "                                                               \r"
          ]
        },
        {
          "name": "stdout",
          "output_type": "stream",
          "text": [
            "Moviepy - Done !\n",
            "Moviepy - video ready /Users/fomindmitry/Google Диск/Github/Practical_RL/week01_intro/videos/rl-video-episode-72.mp4\n",
            "Moviepy - Building video /Users/fomindmitry/Google Диск/Github/Practical_RL/week01_intro/videos/rl-video-episode-73.mp4.\n",
            "Moviepy - Writing video /Users/fomindmitry/Google Диск/Github/Practical_RL/week01_intro/videos/rl-video-episode-73.mp4\n",
            "\n"
          ]
        },
        {
          "name": "stderr",
          "output_type": "stream",
          "text": [
            "                                                               \r"
          ]
        },
        {
          "name": "stdout",
          "output_type": "stream",
          "text": [
            "Moviepy - Done !\n",
            "Moviepy - video ready /Users/fomindmitry/Google Диск/Github/Practical_RL/week01_intro/videos/rl-video-episode-73.mp4\n",
            "Moviepy - Building video /Users/fomindmitry/Google Диск/Github/Practical_RL/week01_intro/videos/rl-video-episode-74.mp4.\n",
            "Moviepy - Writing video /Users/fomindmitry/Google Диск/Github/Practical_RL/week01_intro/videos/rl-video-episode-74.mp4\n",
            "\n"
          ]
        },
        {
          "name": "stderr",
          "output_type": "stream",
          "text": [
            "                                                               \r"
          ]
        },
        {
          "name": "stdout",
          "output_type": "stream",
          "text": [
            "Moviepy - Done !\n",
            "Moviepy - video ready /Users/fomindmitry/Google Диск/Github/Practical_RL/week01_intro/videos/rl-video-episode-74.mp4\n",
            "Moviepy - Building video /Users/fomindmitry/Google Диск/Github/Practical_RL/week01_intro/videos/rl-video-episode-75.mp4.\n",
            "Moviepy - Writing video /Users/fomindmitry/Google Диск/Github/Practical_RL/week01_intro/videos/rl-video-episode-75.mp4\n",
            "\n"
          ]
        },
        {
          "name": "stderr",
          "output_type": "stream",
          "text": [
            "                                                               \r"
          ]
        },
        {
          "name": "stdout",
          "output_type": "stream",
          "text": [
            "Moviepy - Done !\n",
            "Moviepy - video ready /Users/fomindmitry/Google Диск/Github/Practical_RL/week01_intro/videos/rl-video-episode-75.mp4\n",
            "Moviepy - Building video /Users/fomindmitry/Google Диск/Github/Practical_RL/week01_intro/videos/rl-video-episode-76.mp4.\n",
            "Moviepy - Writing video /Users/fomindmitry/Google Диск/Github/Practical_RL/week01_intro/videos/rl-video-episode-76.mp4\n",
            "\n"
          ]
        },
        {
          "name": "stderr",
          "output_type": "stream",
          "text": [
            "                                                               \r"
          ]
        },
        {
          "name": "stdout",
          "output_type": "stream",
          "text": [
            "Moviepy - Done !\n",
            "Moviepy - video ready /Users/fomindmitry/Google Диск/Github/Practical_RL/week01_intro/videos/rl-video-episode-76.mp4\n",
            "Moviepy - Building video /Users/fomindmitry/Google Диск/Github/Practical_RL/week01_intro/videos/rl-video-episode-77.mp4.\n",
            "Moviepy - Writing video /Users/fomindmitry/Google Диск/Github/Practical_RL/week01_intro/videos/rl-video-episode-77.mp4\n",
            "\n"
          ]
        },
        {
          "name": "stderr",
          "output_type": "stream",
          "text": [
            "                                                               \r"
          ]
        },
        {
          "name": "stdout",
          "output_type": "stream",
          "text": [
            "Moviepy - Done !\n",
            "Moviepy - video ready /Users/fomindmitry/Google Диск/Github/Practical_RL/week01_intro/videos/rl-video-episode-77.mp4\n",
            "Moviepy - Building video /Users/fomindmitry/Google Диск/Github/Practical_RL/week01_intro/videos/rl-video-episode-78.mp4.\n",
            "Moviepy - Writing video /Users/fomindmitry/Google Диск/Github/Practical_RL/week01_intro/videos/rl-video-episode-78.mp4\n",
            "\n"
          ]
        },
        {
          "name": "stderr",
          "output_type": "stream",
          "text": [
            "                                                              \r"
          ]
        },
        {
          "name": "stdout",
          "output_type": "stream",
          "text": [
            "Moviepy - Done !\n",
            "Moviepy - video ready /Users/fomindmitry/Google Диск/Github/Practical_RL/week01_intro/videos/rl-video-episode-78.mp4\n",
            "Moviepy - Building video /Users/fomindmitry/Google Диск/Github/Practical_RL/week01_intro/videos/rl-video-episode-79.mp4.\n",
            "Moviepy - Writing video /Users/fomindmitry/Google Диск/Github/Practical_RL/week01_intro/videos/rl-video-episode-79.mp4\n",
            "\n"
          ]
        },
        {
          "name": "stderr",
          "output_type": "stream",
          "text": [
            "                                                               \r"
          ]
        },
        {
          "name": "stdout",
          "output_type": "stream",
          "text": [
            "Moviepy - Done !\n",
            "Moviepy - video ready /Users/fomindmitry/Google Диск/Github/Practical_RL/week01_intro/videos/rl-video-episode-79.mp4\n",
            "Moviepy - Building video /Users/fomindmitry/Google Диск/Github/Practical_RL/week01_intro/videos/rl-video-episode-80.mp4.\n",
            "Moviepy - Writing video /Users/fomindmitry/Google Диск/Github/Practical_RL/week01_intro/videos/rl-video-episode-80.mp4\n",
            "\n"
          ]
        },
        {
          "name": "stderr",
          "output_type": "stream",
          "text": [
            "                                                               \r"
          ]
        },
        {
          "name": "stdout",
          "output_type": "stream",
          "text": [
            "Moviepy - Done !\n",
            "Moviepy - video ready /Users/fomindmitry/Google Диск/Github/Practical_RL/week01_intro/videos/rl-video-episode-80.mp4\n",
            "Moviepy - Building video /Users/fomindmitry/Google Диск/Github/Practical_RL/week01_intro/videos/rl-video-episode-81.mp4.\n",
            "Moviepy - Writing video /Users/fomindmitry/Google Диск/Github/Practical_RL/week01_intro/videos/rl-video-episode-81.mp4\n",
            "\n"
          ]
        },
        {
          "name": "stderr",
          "output_type": "stream",
          "text": [
            "                                                               \r"
          ]
        },
        {
          "name": "stdout",
          "output_type": "stream",
          "text": [
            "Moviepy - Done !\n",
            "Moviepy - video ready /Users/fomindmitry/Google Диск/Github/Practical_RL/week01_intro/videos/rl-video-episode-81.mp4\n",
            "Moviepy - Building video /Users/fomindmitry/Google Диск/Github/Practical_RL/week01_intro/videos/rl-video-episode-82.mp4.\n",
            "Moviepy - Writing video /Users/fomindmitry/Google Диск/Github/Practical_RL/week01_intro/videos/rl-video-episode-82.mp4\n",
            "\n"
          ]
        },
        {
          "name": "stderr",
          "output_type": "stream",
          "text": [
            "                                                               \r"
          ]
        },
        {
          "name": "stdout",
          "output_type": "stream",
          "text": [
            "Moviepy - Done !\n",
            "Moviepy - video ready /Users/fomindmitry/Google Диск/Github/Practical_RL/week01_intro/videos/rl-video-episode-82.mp4\n",
            "Moviepy - Building video /Users/fomindmitry/Google Диск/Github/Practical_RL/week01_intro/videos/rl-video-episode-83.mp4.\n",
            "Moviepy - Writing video /Users/fomindmitry/Google Диск/Github/Practical_RL/week01_intro/videos/rl-video-episode-83.mp4\n",
            "\n"
          ]
        },
        {
          "name": "stderr",
          "output_type": "stream",
          "text": [
            "                                                               \r"
          ]
        },
        {
          "name": "stdout",
          "output_type": "stream",
          "text": [
            "Moviepy - Done !\n",
            "Moviepy - video ready /Users/fomindmitry/Google Диск/Github/Practical_RL/week01_intro/videos/rl-video-episode-83.mp4\n",
            "Moviepy - Building video /Users/fomindmitry/Google Диск/Github/Practical_RL/week01_intro/videos/rl-video-episode-84.mp4.\n",
            "Moviepy - Writing video /Users/fomindmitry/Google Диск/Github/Practical_RL/week01_intro/videos/rl-video-episode-84.mp4\n",
            "\n"
          ]
        },
        {
          "name": "stderr",
          "output_type": "stream",
          "text": [
            "                                                               \r"
          ]
        },
        {
          "name": "stdout",
          "output_type": "stream",
          "text": [
            "Moviepy - Done !\n",
            "Moviepy - video ready /Users/fomindmitry/Google Диск/Github/Practical_RL/week01_intro/videos/rl-video-episode-84.mp4\n",
            "Moviepy - Building video /Users/fomindmitry/Google Диск/Github/Practical_RL/week01_intro/videos/rl-video-episode-85.mp4.\n",
            "Moviepy - Writing video /Users/fomindmitry/Google Диск/Github/Practical_RL/week01_intro/videos/rl-video-episode-85.mp4\n",
            "\n"
          ]
        },
        {
          "name": "stderr",
          "output_type": "stream",
          "text": [
            "                                                               \r"
          ]
        },
        {
          "name": "stdout",
          "output_type": "stream",
          "text": [
            "Moviepy - Done !\n",
            "Moviepy - video ready /Users/fomindmitry/Google Диск/Github/Practical_RL/week01_intro/videos/rl-video-episode-85.mp4\n",
            "Moviepy - Building video /Users/fomindmitry/Google Диск/Github/Practical_RL/week01_intro/videos/rl-video-episode-86.mp4.\n",
            "Moviepy - Writing video /Users/fomindmitry/Google Диск/Github/Practical_RL/week01_intro/videos/rl-video-episode-86.mp4\n",
            "\n"
          ]
        },
        {
          "name": "stderr",
          "output_type": "stream",
          "text": [
            "                                                               \r"
          ]
        },
        {
          "name": "stdout",
          "output_type": "stream",
          "text": [
            "Moviepy - Done !\n",
            "Moviepy - video ready /Users/fomindmitry/Google Диск/Github/Practical_RL/week01_intro/videos/rl-video-episode-86.mp4\n",
            "Moviepy - Building video /Users/fomindmitry/Google Диск/Github/Practical_RL/week01_intro/videos/rl-video-episode-87.mp4.\n",
            "Moviepy - Writing video /Users/fomindmitry/Google Диск/Github/Practical_RL/week01_intro/videos/rl-video-episode-87.mp4\n",
            "\n"
          ]
        },
        {
          "name": "stderr",
          "output_type": "stream",
          "text": [
            "                                                               \r"
          ]
        },
        {
          "name": "stdout",
          "output_type": "stream",
          "text": [
            "Moviepy - Done !\n",
            "Moviepy - video ready /Users/fomindmitry/Google Диск/Github/Practical_RL/week01_intro/videos/rl-video-episode-87.mp4\n",
            "Moviepy - Building video /Users/fomindmitry/Google Диск/Github/Practical_RL/week01_intro/videos/rl-video-episode-88.mp4.\n",
            "Moviepy - Writing video /Users/fomindmitry/Google Диск/Github/Practical_RL/week01_intro/videos/rl-video-episode-88.mp4\n",
            "\n"
          ]
        },
        {
          "name": "stderr",
          "output_type": "stream",
          "text": [
            "                                                               \r"
          ]
        },
        {
          "name": "stdout",
          "output_type": "stream",
          "text": [
            "Moviepy - Done !\n",
            "Moviepy - video ready /Users/fomindmitry/Google Диск/Github/Practical_RL/week01_intro/videos/rl-video-episode-88.mp4\n",
            "Moviepy - Building video /Users/fomindmitry/Google Диск/Github/Practical_RL/week01_intro/videos/rl-video-episode-89.mp4.\n",
            "Moviepy - Writing video /Users/fomindmitry/Google Диск/Github/Practical_RL/week01_intro/videos/rl-video-episode-89.mp4\n",
            "\n"
          ]
        },
        {
          "name": "stderr",
          "output_type": "stream",
          "text": [
            "                                                               \r"
          ]
        },
        {
          "name": "stdout",
          "output_type": "stream",
          "text": [
            "Moviepy - Done !\n",
            "Moviepy - video ready /Users/fomindmitry/Google Диск/Github/Practical_RL/week01_intro/videos/rl-video-episode-89.mp4\n",
            "Moviepy - Building video /Users/fomindmitry/Google Диск/Github/Practical_RL/week01_intro/videos/rl-video-episode-90.mp4.\n",
            "Moviepy - Writing video /Users/fomindmitry/Google Диск/Github/Practical_RL/week01_intro/videos/rl-video-episode-90.mp4\n",
            "\n"
          ]
        },
        {
          "name": "stderr",
          "output_type": "stream",
          "text": [
            "                                                               \r"
          ]
        },
        {
          "name": "stdout",
          "output_type": "stream",
          "text": [
            "Moviepy - Done !\n",
            "Moviepy - video ready /Users/fomindmitry/Google Диск/Github/Practical_RL/week01_intro/videos/rl-video-episode-90.mp4\n",
            "Moviepy - Building video /Users/fomindmitry/Google Диск/Github/Practical_RL/week01_intro/videos/rl-video-episode-91.mp4.\n",
            "Moviepy - Writing video /Users/fomindmitry/Google Диск/Github/Practical_RL/week01_intro/videos/rl-video-episode-91.mp4\n",
            "\n"
          ]
        },
        {
          "name": "stderr",
          "output_type": "stream",
          "text": [
            "                                                               \r"
          ]
        },
        {
          "name": "stdout",
          "output_type": "stream",
          "text": [
            "Moviepy - Done !\n",
            "Moviepy - video ready /Users/fomindmitry/Google Диск/Github/Practical_RL/week01_intro/videos/rl-video-episode-91.mp4\n",
            "Moviepy - Building video /Users/fomindmitry/Google Диск/Github/Practical_RL/week01_intro/videos/rl-video-episode-92.mp4.\n",
            "Moviepy - Writing video /Users/fomindmitry/Google Диск/Github/Practical_RL/week01_intro/videos/rl-video-episode-92.mp4\n",
            "\n"
          ]
        },
        {
          "name": "stderr",
          "output_type": "stream",
          "text": [
            "                                                               \r"
          ]
        },
        {
          "name": "stdout",
          "output_type": "stream",
          "text": [
            "Moviepy - Done !\n",
            "Moviepy - video ready /Users/fomindmitry/Google Диск/Github/Practical_RL/week01_intro/videos/rl-video-episode-92.mp4\n",
            "Moviepy - Building video /Users/fomindmitry/Google Диск/Github/Practical_RL/week01_intro/videos/rl-video-episode-93.mp4.\n",
            "Moviepy - Writing video /Users/fomindmitry/Google Диск/Github/Practical_RL/week01_intro/videos/rl-video-episode-93.mp4\n",
            "\n"
          ]
        },
        {
          "name": "stderr",
          "output_type": "stream",
          "text": [
            "                                                               \r"
          ]
        },
        {
          "name": "stdout",
          "output_type": "stream",
          "text": [
            "Moviepy - Done !\n",
            "Moviepy - video ready /Users/fomindmitry/Google Диск/Github/Practical_RL/week01_intro/videos/rl-video-episode-93.mp4\n",
            "Moviepy - Building video /Users/fomindmitry/Google Диск/Github/Practical_RL/week01_intro/videos/rl-video-episode-94.mp4.\n",
            "Moviepy - Writing video /Users/fomindmitry/Google Диск/Github/Practical_RL/week01_intro/videos/rl-video-episode-94.mp4\n",
            "\n"
          ]
        },
        {
          "name": "stderr",
          "output_type": "stream",
          "text": [
            "                                                               \r"
          ]
        },
        {
          "name": "stdout",
          "output_type": "stream",
          "text": [
            "Moviepy - Done !\n",
            "Moviepy - video ready /Users/fomindmitry/Google Диск/Github/Practical_RL/week01_intro/videos/rl-video-episode-94.mp4\n",
            "Moviepy - Building video /Users/fomindmitry/Google Диск/Github/Practical_RL/week01_intro/videos/rl-video-episode-95.mp4.\n",
            "Moviepy - Writing video /Users/fomindmitry/Google Диск/Github/Practical_RL/week01_intro/videos/rl-video-episode-95.mp4\n",
            "\n"
          ]
        },
        {
          "name": "stderr",
          "output_type": "stream",
          "text": [
            "                                                               \r"
          ]
        },
        {
          "name": "stdout",
          "output_type": "stream",
          "text": [
            "Moviepy - Done !\n",
            "Moviepy - video ready /Users/fomindmitry/Google Диск/Github/Practical_RL/week01_intro/videos/rl-video-episode-95.mp4\n",
            "Moviepy - Building video /Users/fomindmitry/Google Диск/Github/Practical_RL/week01_intro/videos/rl-video-episode-96.mp4.\n",
            "Moviepy - Writing video /Users/fomindmitry/Google Диск/Github/Practical_RL/week01_intro/videos/rl-video-episode-96.mp4\n",
            "\n"
          ]
        },
        {
          "name": "stderr",
          "output_type": "stream",
          "text": [
            "                                                               \r"
          ]
        },
        {
          "name": "stdout",
          "output_type": "stream",
          "text": [
            "Moviepy - Done !\n",
            "Moviepy - video ready /Users/fomindmitry/Google Диск/Github/Practical_RL/week01_intro/videos/rl-video-episode-96.mp4\n",
            "Moviepy - Building video /Users/fomindmitry/Google Диск/Github/Practical_RL/week01_intro/videos/rl-video-episode-97.mp4.\n",
            "Moviepy - Writing video /Users/fomindmitry/Google Диск/Github/Practical_RL/week01_intro/videos/rl-video-episode-97.mp4\n",
            "\n"
          ]
        },
        {
          "name": "stderr",
          "output_type": "stream",
          "text": [
            "                                                               \r"
          ]
        },
        {
          "name": "stdout",
          "output_type": "stream",
          "text": [
            "Moviepy - Done !\n",
            "Moviepy - video ready /Users/fomindmitry/Google Диск/Github/Practical_RL/week01_intro/videos/rl-video-episode-97.mp4\n",
            "Moviepy - Building video /Users/fomindmitry/Google Диск/Github/Practical_RL/week01_intro/videos/rl-video-episode-98.mp4.\n",
            "Moviepy - Writing video /Users/fomindmitry/Google Диск/Github/Practical_RL/week01_intro/videos/rl-video-episode-98.mp4\n",
            "\n"
          ]
        },
        {
          "name": "stderr",
          "output_type": "stream",
          "text": [
            "                                                               \r"
          ]
        },
        {
          "name": "stdout",
          "output_type": "stream",
          "text": [
            "Moviepy - Done !\n",
            "Moviepy - video ready /Users/fomindmitry/Google Диск/Github/Practical_RL/week01_intro/videos/rl-video-episode-98.mp4\n",
            "Moviepy - Building video /Users/fomindmitry/Google Диск/Github/Practical_RL/week01_intro/videos/rl-video-episode-99.mp4.\n",
            "Moviepy - Writing video /Users/fomindmitry/Google Диск/Github/Practical_RL/week01_intro/videos/rl-video-episode-99.mp4\n",
            "\n"
          ]
        },
        {
          "name": "stderr",
          "output_type": "stream",
          "text": [
            "                                                               "
          ]
        },
        {
          "name": "stdout",
          "output_type": "stream",
          "text": [
            "Moviepy - Done !\n",
            "Moviepy - video ready /Users/fomindmitry/Google Диск/Github/Practical_RL/week01_intro/videos/rl-video-episode-99.mp4\n"
          ]
        },
        {
          "name": "stderr",
          "output_type": "stream",
          "text": [
            "\r"
          ]
        }
      ],
      "source": [
        "# Record sessions\n",
        "\n",
        "from gymnasium.wrappers import RecordVideo\n",
        "\n",
        "with RecordVideo(\n",
        "    env=gym.make(\"CartPole-v0\", render_mode=\"rgb_array\"),\n",
        "    video_folder=\"./videos\",\n",
        "    episode_trigger=lambda episode_number: True,\n",
        ") as env_monitor:\n",
        "    sessions = [generate_session(env_monitor, agent) for _ in range(100)]\n"
      ]
    },
    {
      "cell_type": "code",
      "execution_count": 10,
      "metadata": {
        "id": "kLPXdME7G9zN"
      },
      "outputs": [
        {
          "data": {
            "text/html": [
              "\n",
              "<video width=\"640\" height=\"480\" controls>\n",
              "  <source src=\"videos/rl-video-episode-99.mp4\" type=\"video/mp4\">\n",
              "</video>\n"
            ],
            "text/plain": [
              "<IPython.core.display.HTML object>"
            ]
          },
          "execution_count": 10,
          "metadata": {},
          "output_type": "execute_result"
        }
      ],
      "source": [
        "# Show video. This may not work in some setups. If it doesn't\n",
        "# work for you, you can download the videos and view them locally.\n",
        "\n",
        "from pathlib import Path\n",
        "from base64 import b64encode\n",
        "from IPython.display import HTML\n",
        "\n",
        "video_paths = sorted([s for s in Path(\"videos\").iterdir() if s.suffix == \".mp4\"])\n",
        "video_path = video_paths[-1]  # You can also try other indices\n",
        "\n",
        "if \"google.colab\" in sys.modules:\n",
        "    # https://stackoverflow.com/a/57378660/1214547\n",
        "    with video_path.open(\"rb\") as fp:\n",
        "        mp4 = fp.read()\n",
        "    data_url = \"data:video/mp4;base64,\" + b64encode(mp4).decode()\n",
        "else:\n",
        "    data_url = str(video_path)\n",
        "\n",
        "HTML(\n",
        "    \"\"\"\n",
        "<video width=\"640\" height=\"480\" controls>\n",
        "  <source src=\"{}\" type=\"video/mp4\">\n",
        "</video>\n",
        "\"\"\".format(\n",
        "        data_url\n",
        "    )\n",
        ")\n"
      ]
    },
    {
      "cell_type": "markdown",
      "metadata": {
        "id": "6d_3oOQ1G9zN"
      },
      "source": [
        "# Homework part I\n",
        "\n",
        "### Tabular crossentropy method\n",
        "\n",
        "You may have noticed that the taxi problem quickly converges from -100 to a near-optimal score and then descends back into -50/-100. This is in part because the environment has some innate randomness. Namely, the starting points of passenger/driver change from episode to episode.\n",
        "\n",
        "### Tasks\n",
        "- __1.1__ (2 pts) Find out how the algorithm performance changes if you use a different `percentile` and/or `n_sessions`. Provide here some figures so we can see how the hyperparameters influence the performance.\n",
        "- __1.2__ (1 pts) Tune the algorithm to end up with positive average score.\n",
        "\n",
        "It's okay to modify the existing code.\n"
      ]
    },
    {
      "cell_type": "markdown",
      "metadata": {
        "id": "L88LySiVG9zN"
      },
      "source": [
        "```<Describe what you did here>```"
      ]
    },
    {
      "cell_type": "markdown",
      "metadata": {
        "id": "7LpAJc4rG9zN"
      },
      "source": [
        "# Homework part II\n",
        "\n",
        "### Deep crossentropy method\n",
        "\n",
        "By this moment, you should have got enough score on [CartPole-v0](https://gymnasium.farama.org/environments/classic_control/cart_pole/) to consider it solved (see the link). It's time to try something harder.\n",
        "\n",
        "* if you have any trouble with CartPole-v0 and feel stuck, feel free to ask us or your peers for help.\n",
        "\n",
        "### Tasks\n",
        "\n",
        "* __2.1__ (3 pts) Pick one of environments: `MountainCar-v0` or `LunarLander-v2`.\n",
        "  * For MountainCar, get average reward of __at least -150__\n",
        "  * For LunarLander, get average reward of __at least +50__\n",
        "\n",
        "See the tips section below, it's kinda important.\n",
        "__Note:__ If your agent is below the target score, you'll still get some of the points depending on the result, so don't be afraid to submit it.\n",
        "  \n",
        "  \n",
        "* __2.2__ (up to 6 pts) Devise a way to speed up training against the default version\n",
        "  * Obvious improvement: use [`joblib`](https://joblib.readthedocs.io/en/latest/). However, note that you will probably need to spawn a new environment in each of the workers instead of passing it via pickling. (2 pts)\n",
        "  * Try re-using samples from 3-5 last iterations when computing threshold and training. (2 pts)\n",
        "  * Obtain __-100__ at `MountainCar-v0` or __+200__ at `LunarLander-v2` (2 pts). Feel free to experiment with hyperparameters, architectures, schedules etc.\n",
        "  \n",
        "__Please list what you did in Anytask submission form__. This reduces probability that somebody misses something.\n",
        "  \n",
        "  \n",
        "### Tips\n",
        "* Gymnasium pages: [MountainCar](https://gymnasium.farama.org/environments/classic_control/mountain_car/), [LunarLander](https://gymnasium.farama.org/environments/box2d/lunar_lander/)\n",
        "* Sessions for MountainCar may last for 10k+ ticks. Make sure ```t_max``` param is at least 10k.\n",
        " * Also it may be a good idea to cut rewards via \">\" and not \">=\". If 90% of your sessions get reward of -10k and 10% are better, than if you use percentile 20% as threshold, R >= threshold __fails to cut off bad sessions__ while R > threshold works alright.\n",
        "* _issue with gym_: Some versions of gym limit game time by 200 ticks. This will prevent cem training in most cases. Make sure your agent is able to play for the specified __t_max__, and if it isn't, try `env = gym.make(\"MountainCar-v0\").env` or otherwise get rid of TimeLimit wrapper.\n",
        "* If you use old _swig_ lib for LunarLander-v2, you may get an error. See this [issue](https://github.com/openai/gym/issues/100) for solution.\n",
        "* If it doesn't train, it's a good idea to plot reward distribution and record sessions: they may give you some clue. If they don't, call course staff :)\n",
        "* 20-neuron network is probably not enough, feel free to experiment.\n",
        "\n",
        "You may find the following snippet useful:"
      ]
    },
    {
      "cell_type": "code",
      "execution_count": null,
      "metadata": {
        "id": "qcjz-nm_G9zN"
      },
      "outputs": [],
      "source": [
        "def visualize_mountain_car(env, agent):\n",
        "    # Compute policy for all possible x and v (with discretization)\n",
        "    xs = np.linspace(env.min_position, env.max_position, 100)\n",
        "    vs = np.linspace(-env.max_speed, env.max_speed, 100)\n",
        "\n",
        "    grid = np.dstack(np.meshgrid(xs, vs[::-1])).transpose(1, 0, 2)\n",
        "    grid_flat = grid.reshape(len(xs) * len(vs), 2)\n",
        "    probs = (\n",
        "        agent.predict_proba(grid_flat).reshape(len(xs), len(vs), 3).transpose(1, 0, 2)\n",
        "    )\n",
        "\n",
        "    # # The above code is equivalent to the following:\n",
        "    # probs = np.empty((len(vs), len(xs), 3))\n",
        "    # for i, v in enumerate(vs[::-1]):\n",
        "    #     for j, x in enumerate(xs):\n",
        "    #         probs[i, j, :] = agent.predict_proba([[x, v]])[0]\n",
        "\n",
        "    # Draw policy\n",
        "    f, ax = plt.subplots(figsize=(7, 7))\n",
        "    ax.imshow(\n",
        "        probs,\n",
        "        extent=(env.min_position, env.max_position, -env.max_speed, env.max_speed),\n",
        "        aspect=\"auto\",\n",
        "    )\n",
        "    ax.set_title(\"Learned policy: red=left, green=nothing, blue=right\")\n",
        "    ax.set_xlabel(\"position (x)\")\n",
        "    ax.set_ylabel(\"velocity (v)\")\n",
        "\n",
        "    # Sample a trajectory and draw it\n",
        "    states, actions, _ = generate_session(env, agent)\n",
        "    states = np.array(states)\n",
        "    ax.plot(states[:, 0], states[:, 1], color=\"white\")\n",
        "\n",
        "    # Draw every 3rd action from the trajectory\n",
        "    for (x, v), a in zip(states[::3], actions[::3]):\n",
        "        if a == 0:\n",
        "            plt.arrow(x, v, -0.1, 0, color=\"white\", head_length=0.02)\n",
        "        elif a == 2:\n",
        "            plt.arrow(x, v, 0.1, 0, color=\"white\", head_length=0.02)\n",
        "\n",
        "\n",
        "with gym.make(\"MountainCar-v0\", render_mode=\"rgb_arrary\").env as env:\n",
        "    visualize_mountain_car(env, agent)\n"
      ]
    },
    {
      "cell_type": "markdown",
      "metadata": {
        "id": "Dzk41lDPG9zO"
      },
      "source": [
        "### Bonus tasks\n",
        "\n",
        "* __2.3 bonus__ (2 pts) Try to find a network architecture and training params that solve __both__ environments above (_Points depend on implementation. If you attempted this task, please mention it in Anytask submission._)\n",
        "\n",
        "* __2.4 bonus__ (4 pts) Solve continuous action space task with `MLPRegressor` or similar.\n",
        "  * Since your agent only predicts the \"expected\" action, you will have to add noise to ensure exploration.\n",
        "  * Choose one of [MountainCarContinuous-v0](https://gymnasium.farama.org/environments/classic_control/mountain_car_continuous/) (90+ pts to solve), [LunarLanderContinuous-v2](https://gymnasium.farama.org/environments/box2d/lunar_lander/) (`env = gym.make(\"LunarLander-v2\", continuous=True)`)(200+ pts to solve)\n",
        "  * 4 points for solving. Slightly less for getting some results below solution threshold. Note that discrete and continuous environments may have slightly different rules, aside from action spaces."
      ]
    }
  ],
  "metadata": {
    "colab": {
      "provenance": []
    },
    "kernelspec": {
      "display_name": "Python 3",
      "language": "python",
      "name": "python3"
    },
    "language_info": {
      "codemirror_mode": {
        "name": "ipython",
        "version": 3
      },
      "file_extension": ".py",
      "mimetype": "text/x-python",
      "name": "python",
      "nbconvert_exporter": "python",
      "pygments_lexer": "ipython3",
      "version": "3.11.5"
    }
  },
  "nbformat": 4,
  "nbformat_minor": 0
}
